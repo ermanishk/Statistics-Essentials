{
 "cells": [
  {
   "cell_type": "markdown",
   "metadata": {},
   "source": [
    "### Introduction:\n",
    "Spark Funds is an asset management company and they wants to make investments in a few companies. The CEO of Spark Funds wants to understand the global trends in investments so that she can take the investment decisions effectively.\n",
    "\n",
    "**Business objective:** \n",
    "\n",
    "The objective is to identify the best sectors, countries, and a suitable investment type for making investments. The overall strategy is to invest where others are investing, implying that the 'best' sectors and countries are the ones 'where most investors are investing'.\n",
    "\n",
    "**Goals of data analysis:**\n",
    "Your goals are divided into three sub-goals:\n",
    "-\tInvestment type analysis: Comparing the typical investment amounts in the venture, seed, angel, private equity etc. so that Spark Funds can choose the type that is best suited for their strategy.\n",
    "\n",
    "- Country analysis: Identifying the countries which have been the most heavily invested in the past. These will be Spark Funds’ favourites as well.\n",
    "\n",
    "- Sector analysis: Understanding the distribution of investments across the eight main sectors. (Note that we are interested in the eight 'main sectors' provided in the mapping file. The two files — companies and rounds2 — have numerous sub-sector names; hence, you will need to map each sub-sector to its main sector.)\n",
    "\n",
    "**Data Set:** There are 3 datasets for this analysis:\n",
    "\n",
    "1. Company details\n",
    "companies: A table with basic data of companies.\n",
    "\n",
    "2. Funding round details: \n",
    "rounds2:\n",
    "\n",
    "3. Sector Classification:\n",
    "mapping.csv: This file maps the numerous category names in the companies table (such 3D printing, aerospace, agriculture, etc.) to eight broad sector names. The purpose is to simplify the analysis into eight sector buckets, rather than trying to analyse hundreds of them.\n",
    "\n",
    "\n"
   ]
  },
  {
   "cell_type": "markdown",
   "metadata": {},
   "source": [
    "## **Checkpoint 1:**\n"
   ]
  },
  {
   "cell_type": "code",
   "execution_count": 1,
   "metadata": {},
   "outputs": [],
   "source": [
    "#Importing the necessary libraries\n",
    "#Importing Numerical Libraries\n",
    "import numpy as np\n",
    "\n",
    "#To handle data in form of rows and columns\n",
    "import pandas as pd\n",
    "\n",
    "#To enable plotting graphs in jupyter notebook\n",
    "import matplotlib.pyplot as plt\n",
    "%matplotlib inline\n",
    "\n",
    "#Importig library for statistical graphs\n",
    "import seaborn as sns"
   ]
  },
  {
   "cell_type": "markdown",
   "metadata": {},
   "source": [
    "** 1:Load the companies and rounds data into two data frames and name them companies and rounds2 respectively.**"
   ]
  },
  {
   "cell_type": "code",
   "execution_count": 2,
   "metadata": {},
   "outputs": [
    {
     "data": {
      "text/html": [
       "<div>\n",
       "<style scoped>\n",
       "    .dataframe tbody tr th:only-of-type {\n",
       "        vertical-align: middle;\n",
       "    }\n",
       "\n",
       "    .dataframe tbody tr th {\n",
       "        vertical-align: top;\n",
       "    }\n",
       "\n",
       "    .dataframe thead th {\n",
       "        text-align: right;\n",
       "    }\n",
       "</style>\n",
       "<table border=\"1\" class=\"dataframe\">\n",
       "  <thead>\n",
       "    <tr style=\"text-align: right;\">\n",
       "      <th></th>\n",
       "      <th>permalink</th>\n",
       "      <th>name</th>\n",
       "      <th>homepage_url</th>\n",
       "      <th>category_list</th>\n",
       "      <th>status</th>\n",
       "      <th>country_code</th>\n",
       "      <th>state_code</th>\n",
       "      <th>region</th>\n",
       "      <th>city</th>\n",
       "      <th>founded_at</th>\n",
       "    </tr>\n",
       "  </thead>\n",
       "  <tbody>\n",
       "    <tr>\n",
       "      <th>0</th>\n",
       "      <td>/Organization/-Fame</td>\n",
       "      <td>#fame</td>\n",
       "      <td>http://livfame.com</td>\n",
       "      <td>Media</td>\n",
       "      <td>operating</td>\n",
       "      <td>IND</td>\n",
       "      <td>16</td>\n",
       "      <td>Mumbai</td>\n",
       "      <td>Mumbai</td>\n",
       "      <td>NaN</td>\n",
       "    </tr>\n",
       "    <tr>\n",
       "      <th>1</th>\n",
       "      <td>/Organization/-Qounter</td>\n",
       "      <td>:Qounter</td>\n",
       "      <td>http://www.qounter.com</td>\n",
       "      <td>Application Platforms|Real Time|Social Network...</td>\n",
       "      <td>operating</td>\n",
       "      <td>USA</td>\n",
       "      <td>DE</td>\n",
       "      <td>DE - Other</td>\n",
       "      <td>Delaware City</td>\n",
       "      <td>04-09-2014</td>\n",
       "    </tr>\n",
       "    <tr>\n",
       "      <th>2</th>\n",
       "      <td>/Organization/-The-One-Of-Them-Inc-</td>\n",
       "      <td>(THE) ONE of THEM,Inc.</td>\n",
       "      <td>http://oneofthem.jp</td>\n",
       "      <td>Apps|Games|Mobile</td>\n",
       "      <td>operating</td>\n",
       "      <td>NaN</td>\n",
       "      <td>NaN</td>\n",
       "      <td>NaN</td>\n",
       "      <td>NaN</td>\n",
       "      <td>NaN</td>\n",
       "    </tr>\n",
       "    <tr>\n",
       "      <th>3</th>\n",
       "      <td>/Organization/0-6-Com</td>\n",
       "      <td>0-6.com</td>\n",
       "      <td>http://www.0-6.com</td>\n",
       "      <td>Curated Web</td>\n",
       "      <td>operating</td>\n",
       "      <td>CHN</td>\n",
       "      <td>22</td>\n",
       "      <td>Beijing</td>\n",
       "      <td>Beijing</td>\n",
       "      <td>01-01-2007</td>\n",
       "    </tr>\n",
       "    <tr>\n",
       "      <th>4</th>\n",
       "      <td>/Organization/004-Technologies</td>\n",
       "      <td>004 Technologies</td>\n",
       "      <td>http://004gmbh.de/en/004-interact</td>\n",
       "      <td>Software</td>\n",
       "      <td>operating</td>\n",
       "      <td>USA</td>\n",
       "      <td>IL</td>\n",
       "      <td>Springfield, Illinois</td>\n",
       "      <td>Champaign</td>\n",
       "      <td>01-01-2010</td>\n",
       "    </tr>\n",
       "  </tbody>\n",
       "</table>\n",
       "</div>"
      ],
      "text/plain": [
       "                             permalink                    name  \\\n",
       "0                  /Organization/-Fame                   #fame   \n",
       "1               /Organization/-Qounter                :Qounter   \n",
       "2  /Organization/-The-One-Of-Them-Inc-  (THE) ONE of THEM,Inc.   \n",
       "3                /Organization/0-6-Com                 0-6.com   \n",
       "4       /Organization/004-Technologies        004 Technologies   \n",
       "\n",
       "                        homepage_url  \\\n",
       "0                 http://livfame.com   \n",
       "1             http://www.qounter.com   \n",
       "2                http://oneofthem.jp   \n",
       "3                 http://www.0-6.com   \n",
       "4  http://004gmbh.de/en/004-interact   \n",
       "\n",
       "                                       category_list     status country_code  \\\n",
       "0                                              Media  operating          IND   \n",
       "1  Application Platforms|Real Time|Social Network...  operating          USA   \n",
       "2                                  Apps|Games|Mobile  operating          NaN   \n",
       "3                                        Curated Web  operating          CHN   \n",
       "4                                           Software  operating          USA   \n",
       "\n",
       "  state_code                 region           city  founded_at  \n",
       "0         16                 Mumbai         Mumbai         NaN  \n",
       "1         DE             DE - Other  Delaware City  04-09-2014  \n",
       "2        NaN                    NaN            NaN         NaN  \n",
       "3         22                Beijing        Beijing  01-01-2007  \n",
       "4         IL  Springfield, Illinois      Champaign  01-01-2010  "
      ]
     },
     "execution_count": 2,
     "metadata": {},
     "output_type": "execute_result"
    }
   ],
   "source": [
    "#loading the dataset companies in pandas dataframe using the function function read_csv()\n",
    "companies = pd.read_csv(\"companies.txt\",sep=\"\\t\", encoding = \"ISO-8859-1\")\n",
    "\n",
    "#head() is used to print the first five rows. By default it will print you first five rows  or you can give a specific number\n",
    "companies.head()"
   ]
  },
  {
   "cell_type": "code",
   "execution_count": 3,
   "metadata": {},
   "outputs": [
    {
     "data": {
      "text/html": [
       "<div>\n",
       "<style scoped>\n",
       "    .dataframe tbody tr th:only-of-type {\n",
       "        vertical-align: middle;\n",
       "    }\n",
       "\n",
       "    .dataframe tbody tr th {\n",
       "        vertical-align: top;\n",
       "    }\n",
       "\n",
       "    .dataframe thead th {\n",
       "        text-align: right;\n",
       "    }\n",
       "</style>\n",
       "<table border=\"1\" class=\"dataframe\">\n",
       "  <thead>\n",
       "    <tr style=\"text-align: right;\">\n",
       "      <th></th>\n",
       "      <th>company_permalink</th>\n",
       "      <th>funding_round_permalink</th>\n",
       "      <th>funding_round_type</th>\n",
       "      <th>funding_round_code</th>\n",
       "      <th>funded_at</th>\n",
       "      <th>raised_amount_usd</th>\n",
       "    </tr>\n",
       "  </thead>\n",
       "  <tbody>\n",
       "    <tr>\n",
       "      <th>0</th>\n",
       "      <td>/organization/-fame</td>\n",
       "      <td>/funding-round/9a01d05418af9f794eebff7ace91f638</td>\n",
       "      <td>venture</td>\n",
       "      <td>B</td>\n",
       "      <td>05-01-2015</td>\n",
       "      <td>10000000.0</td>\n",
       "    </tr>\n",
       "    <tr>\n",
       "      <th>1</th>\n",
       "      <td>/ORGANIZATION/-QOUNTER</td>\n",
       "      <td>/funding-round/22dacff496eb7acb2b901dec1dfe5633</td>\n",
       "      <td>venture</td>\n",
       "      <td>A</td>\n",
       "      <td>14-10-2014</td>\n",
       "      <td>NaN</td>\n",
       "    </tr>\n",
       "    <tr>\n",
       "      <th>2</th>\n",
       "      <td>/organization/-qounter</td>\n",
       "      <td>/funding-round/b44fbb94153f6cdef13083530bb48030</td>\n",
       "      <td>seed</td>\n",
       "      <td>NaN</td>\n",
       "      <td>01-03-2014</td>\n",
       "      <td>700000.0</td>\n",
       "    </tr>\n",
       "    <tr>\n",
       "      <th>3</th>\n",
       "      <td>/ORGANIZATION/-THE-ONE-OF-THEM-INC-</td>\n",
       "      <td>/funding-round/650b8f704416801069bb178a1418776b</td>\n",
       "      <td>venture</td>\n",
       "      <td>B</td>\n",
       "      <td>30-01-2014</td>\n",
       "      <td>3406878.0</td>\n",
       "    </tr>\n",
       "    <tr>\n",
       "      <th>4</th>\n",
       "      <td>/organization/0-6-com</td>\n",
       "      <td>/funding-round/5727accaeaa57461bd22a9bdd945382d</td>\n",
       "      <td>venture</td>\n",
       "      <td>A</td>\n",
       "      <td>19-03-2008</td>\n",
       "      <td>2000000.0</td>\n",
       "    </tr>\n",
       "  </tbody>\n",
       "</table>\n",
       "</div>"
      ],
      "text/plain": [
       "                     company_permalink  \\\n",
       "0                  /organization/-fame   \n",
       "1               /ORGANIZATION/-QOUNTER   \n",
       "2               /organization/-qounter   \n",
       "3  /ORGANIZATION/-THE-ONE-OF-THEM-INC-   \n",
       "4                /organization/0-6-com   \n",
       "\n",
       "                           funding_round_permalink funding_round_type  \\\n",
       "0  /funding-round/9a01d05418af9f794eebff7ace91f638            venture   \n",
       "1  /funding-round/22dacff496eb7acb2b901dec1dfe5633            venture   \n",
       "2  /funding-round/b44fbb94153f6cdef13083530bb48030               seed   \n",
       "3  /funding-round/650b8f704416801069bb178a1418776b            venture   \n",
       "4  /funding-round/5727accaeaa57461bd22a9bdd945382d            venture   \n",
       "\n",
       "  funding_round_code   funded_at  raised_amount_usd  \n",
       "0                  B  05-01-2015         10000000.0  \n",
       "1                  A  14-10-2014                NaN  \n",
       "2                NaN  01-03-2014           700000.0  \n",
       "3                  B  30-01-2014          3406878.0  \n",
       "4                  A  19-03-2008          2000000.0  "
      ]
     },
     "execution_count": 3,
     "metadata": {},
     "output_type": "execute_result"
    }
   ],
   "source": [
    "#loading the dataset round2 into the pandas dataframe using read_csv()\n",
    "rounds2 = pd.read_csv(\"rounds2.csv\",encoding='unicode_escape')\n",
    "rounds2.head()"
   ]
  },
  {
   "cell_type": "code",
   "execution_count": 4,
   "metadata": {},
   "outputs": [
    {
     "data": {
      "text/plain": [
       "(66368, 10)"
      ]
     },
     "execution_count": 4,
     "metadata": {},
     "output_type": "execute_result"
    }
   ],
   "source": [
    "#shape is used to check the number of rows and columns in the dataset\n",
    "companies.shape"
   ]
  },
  {
   "cell_type": "markdown",
   "metadata": {},
   "source": [
    "**Description: There are 66368 number of observations and 10 attributes in companies dataset**"
   ]
  },
  {
   "cell_type": "code",
   "execution_count": 4,
   "metadata": {},
   "outputs": [
    {
     "data": {
      "text/plain": [
       "(114949, 6)"
      ]
     },
     "execution_count": 4,
     "metadata": {},
     "output_type": "execute_result"
    }
   ],
   "source": [
    "#shape is used to check the number of rows and columns in the dataset\n",
    "rounds2.shape"
   ]
  },
  {
   "cell_type": "markdown",
   "metadata": {},
   "source": [
    "**Description: There are 114949 observations and 6 attributes in the dataset round**"
   ]
  },
  {
   "cell_type": "code",
   "execution_count": 5,
   "metadata": {},
   "outputs": [
    {
     "name": "stdout",
     "output_type": "stream",
     "text": [
      "<class 'pandas.core.frame.DataFrame'>\n",
      "RangeIndex: 66368 entries, 0 to 66367\n",
      "Data columns (total 10 columns):\n",
      " #   Column         Non-Null Count  Dtype \n",
      "---  ------         --------------  ----- \n",
      " 0   permalink      66368 non-null  object\n",
      " 1   name           66367 non-null  object\n",
      " 2   homepage_url   61310 non-null  object\n",
      " 3   category_list  63220 non-null  object\n",
      " 4   status         66368 non-null  object\n",
      " 5   country_code   59410 non-null  object\n",
      " 6   state_code     57821 non-null  object\n",
      " 7   region         58338 non-null  object\n",
      " 8   city           58340 non-null  object\n",
      " 9   founded_at     51147 non-null  object\n",
      "dtypes: object(10)\n",
      "memory usage: 5.1+ MB\n"
     ]
    }
   ],
   "source": [
    "#info() is used to Check the datatypes of each attribute\n",
    "companies.info()"
   ]
  },
  {
   "cell_type": "markdown",
   "metadata": {},
   "source": [
    "**Description : As we can see all the attributes are of object type in the dataset companies**"
   ]
  },
  {
   "cell_type": "code",
   "execution_count": 6,
   "metadata": {},
   "outputs": [
    {
     "name": "stdout",
     "output_type": "stream",
     "text": [
      "<class 'pandas.core.frame.DataFrame'>\n",
      "RangeIndex: 114949 entries, 0 to 114948\n",
      "Data columns (total 6 columns):\n",
      " #   Column                   Non-Null Count   Dtype  \n",
      "---  ------                   --------------   -----  \n",
      " 0   company_permalink        114949 non-null  object \n",
      " 1   funding_round_permalink  114949 non-null  object \n",
      " 2   funding_round_type       114949 non-null  object \n",
      " 3   funding_round_code       31140 non-null   object \n",
      " 4   funded_at                114949 non-null  object \n",
      " 5   raised_amount_usd        94959 non-null   float64\n",
      "dtypes: float64(1), object(5)\n",
      "memory usage: 5.3+ MB\n"
     ]
    }
   ],
   "source": [
    "#info() is used to Check the datatypes of each attribute\n",
    "rounds2.info()"
   ]
  },
  {
   "cell_type": "markdown",
   "metadata": {},
   "source": [
    "**Description : In round dataset 5 attributes are of object type and 1 attribute(raised_amount_usd) are of numeric type.**"
   ]
  },
  {
   "cell_type": "code",
   "execution_count": 7,
   "metadata": {},
   "outputs": [
    {
     "data": {
      "text/html": [
       "<div>\n",
       "<style scoped>\n",
       "    .dataframe tbody tr th:only-of-type {\n",
       "        vertical-align: middle;\n",
       "    }\n",
       "\n",
       "    .dataframe tbody tr th {\n",
       "        vertical-align: top;\n",
       "    }\n",
       "\n",
       "    .dataframe thead th {\n",
       "        text-align: right;\n",
       "    }\n",
       "</style>\n",
       "<table border=\"1\" class=\"dataframe\">\n",
       "  <thead>\n",
       "    <tr style=\"text-align: right;\">\n",
       "      <th></th>\n",
       "      <th>count</th>\n",
       "      <th>unique</th>\n",
       "      <th>top</th>\n",
       "      <th>freq</th>\n",
       "    </tr>\n",
       "  </thead>\n",
       "  <tbody>\n",
       "    <tr>\n",
       "      <th>permalink</th>\n",
       "      <td>66368</td>\n",
       "      <td>66368</td>\n",
       "      <td>/Organization/Swoopo</td>\n",
       "      <td>1</td>\n",
       "    </tr>\n",
       "    <tr>\n",
       "      <th>name</th>\n",
       "      <td>66367</td>\n",
       "      <td>66102</td>\n",
       "      <td>Karma</td>\n",
       "      <td>4</td>\n",
       "    </tr>\n",
       "    <tr>\n",
       "      <th>homepage_url</th>\n",
       "      <td>61310</td>\n",
       "      <td>61191</td>\n",
       "      <td>http://www.askforoffer.com</td>\n",
       "      <td>5</td>\n",
       "    </tr>\n",
       "    <tr>\n",
       "      <th>category_list</th>\n",
       "      <td>63220</td>\n",
       "      <td>27296</td>\n",
       "      <td>Software</td>\n",
       "      <td>3995</td>\n",
       "    </tr>\n",
       "    <tr>\n",
       "      <th>status</th>\n",
       "      <td>66368</td>\n",
       "      <td>4</td>\n",
       "      <td>operating</td>\n",
       "      <td>53034</td>\n",
       "    </tr>\n",
       "    <tr>\n",
       "      <th>country_code</th>\n",
       "      <td>59410</td>\n",
       "      <td>137</td>\n",
       "      <td>USA</td>\n",
       "      <td>37601</td>\n",
       "    </tr>\n",
       "    <tr>\n",
       "      <th>state_code</th>\n",
       "      <td>57821</td>\n",
       "      <td>311</td>\n",
       "      <td>CA</td>\n",
       "      <td>12900</td>\n",
       "    </tr>\n",
       "    <tr>\n",
       "      <th>region</th>\n",
       "      <td>58338</td>\n",
       "      <td>1092</td>\n",
       "      <td>SF Bay Area</td>\n",
       "      <td>8804</td>\n",
       "    </tr>\n",
       "    <tr>\n",
       "      <th>city</th>\n",
       "      <td>58340</td>\n",
       "      <td>5111</td>\n",
       "      <td>San Francisco</td>\n",
       "      <td>3526</td>\n",
       "    </tr>\n",
       "    <tr>\n",
       "      <th>founded_at</th>\n",
       "      <td>51147</td>\n",
       "      <td>3978</td>\n",
       "      <td>01-01-2012</td>\n",
       "      <td>2730</td>\n",
       "    </tr>\n",
       "  </tbody>\n",
       "</table>\n",
       "</div>"
      ],
      "text/plain": [
       "               count unique                         top   freq\n",
       "permalink      66368  66368        /Organization/Swoopo      1\n",
       "name           66367  66102                       Karma      4\n",
       "homepage_url   61310  61191  http://www.askforoffer.com      5\n",
       "category_list  63220  27296                    Software   3995\n",
       "status         66368      4                   operating  53034\n",
       "country_code   59410    137                         USA  37601\n",
       "state_code     57821    311                          CA  12900\n",
       "region         58338   1092                 SF Bay Area   8804\n",
       "city           58340   5111               San Francisco   3526\n",
       "founded_at     51147   3978                  01-01-2012   2730"
      ]
     },
     "execution_count": 7,
     "metadata": {},
     "output_type": "execute_result"
    }
   ],
   "source": [
    "#The describe() function computes a summary of statistics pertaining to the DataFrame columns. \n",
    "#This function gives the mean, std and IQR values. And, \n",
    "#function excludes the character columns and given summary about numeric columns\n",
    "#.. Takes the list of values; by default, 'numberic\n",
    "companies.describe().T\n"
   ]
  },
  {
   "cell_type": "code",
   "execution_count": 8,
   "metadata": {},
   "outputs": [
    {
     "data": {
      "text/html": [
       "<div>\n",
       "<style scoped>\n",
       "    .dataframe tbody tr th:only-of-type {\n",
       "        vertical-align: middle;\n",
       "    }\n",
       "\n",
       "    .dataframe tbody tr th {\n",
       "        vertical-align: top;\n",
       "    }\n",
       "\n",
       "    .dataframe thead th {\n",
       "        text-align: right;\n",
       "    }\n",
       "</style>\n",
       "<table border=\"1\" class=\"dataframe\">\n",
       "  <thead>\n",
       "    <tr style=\"text-align: right;\">\n",
       "      <th></th>\n",
       "      <th>count</th>\n",
       "      <th>mean</th>\n",
       "      <th>std</th>\n",
       "      <th>min</th>\n",
       "      <th>25%</th>\n",
       "      <th>50%</th>\n",
       "      <th>75%</th>\n",
       "      <th>max</th>\n",
       "    </tr>\n",
       "  </thead>\n",
       "  <tbody>\n",
       "    <tr>\n",
       "      <th>raised_amount_usd</th>\n",
       "      <td>94959.0</td>\n",
       "      <td>1.042687e+07</td>\n",
       "      <td>1.148212e+08</td>\n",
       "      <td>0.0</td>\n",
       "      <td>322500.0</td>\n",
       "      <td>1680511.0</td>\n",
       "      <td>7000000.0</td>\n",
       "      <td>2.127194e+10</td>\n",
       "    </tr>\n",
       "  </tbody>\n",
       "</table>\n",
       "</div>"
      ],
      "text/plain": [
       "                     count          mean           std  min       25%  \\\n",
       "raised_amount_usd  94959.0  1.042687e+07  1.148212e+08  0.0  322500.0   \n",
       "\n",
       "                         50%        75%           max  \n",
       "raised_amount_usd  1680511.0  7000000.0  2.127194e+10  "
      ]
     },
     "execution_count": 8,
     "metadata": {},
     "output_type": "execute_result"
    }
   ],
   "source": [
    "rounds2.describe().T"
   ]
  },
  {
   "cell_type": "markdown",
   "metadata": {},
   "source": [
    "**Ques 1:How many unique companies are present in rounds2?**\n"
   ]
  },
  {
   "cell_type": "code",
   "execution_count": 10,
   "metadata": {},
   "outputs": [],
   "source": [
    "#Converting the primary key permalink to lower case for further merging of data\n",
    "rounds2[\"company_permalink\"] = rounds2[\"company_permalink\"].str.lower()\n",
    "companies[\"permalink\"] = companies[\"permalink\"].str.lower()\n"
   ]
  },
  {
   "cell_type": "code",
   "execution_count": 12,
   "metadata": {},
   "outputs": [
    {
     "data": {
      "text/plain": [
       "66370"
      ]
     },
     "execution_count": 12,
     "metadata": {},
     "output_type": "execute_result"
    }
   ],
   "source": [
    "# unique companies count in round2 file\n",
    "uniq_rounds2=len(rounds2[\"company_permalink\"].unique())\n",
    "uniq_rounds2"
   ]
  },
  {
   "cell_type": "markdown",
   "metadata": {},
   "source": [
    "**Ans: There are 66370 unique companies in round2 dataset**"
   ]
  },
  {
   "cell_type": "markdown",
   "metadata": {},
   "source": [
    "**Ques 2:How many unique companies are present in companies?**"
   ]
  },
  {
   "cell_type": "code",
   "execution_count": 13,
   "metadata": {},
   "outputs": [
    {
     "data": {
      "text/plain": [
       "66368"
      ]
     },
     "execution_count": 13,
     "metadata": {},
     "output_type": "execute_result"
    }
   ],
   "source": [
    "# unique companies count in compaines file\n",
    "uniq_companies=len(companies.permalink.unique())\n",
    "uniq_companies"
   ]
  },
  {
   "cell_type": "markdown",
   "metadata": {},
   "source": [
    "**Ans: There are 66368 unique companies in companies dataset**"
   ]
  },
  {
   "cell_type": "markdown",
   "metadata": {},
   "source": [
    "**Ques 3: In the companies data frame, which column can be used as the unique key for each company? Write the name of the column.**"
   ]
  },
  {
   "cell_type": "code",
   "execution_count": 14,
   "metadata": {
    "scrolled": false
   },
   "outputs": [
    {
     "data": {
      "text/plain": [
       "False"
      ]
     },
     "execution_count": 14,
     "metadata": {},
     "output_type": "execute_result"
    }
   ],
   "source": [
    "#oolean = not companies[\"permalink\"].is_unique\n",
    "\n",
    "boolean = companies['permalink'].duplicated().any()\n",
    "\n",
    "boolean"
   ]
  },
  {
   "cell_type": "code",
   "execution_count": 15,
   "metadata": {},
   "outputs": [
    {
     "data": {
      "text/plain": [
       "True"
      ]
     },
     "execution_count": 15,
     "metadata": {},
     "output_type": "execute_result"
    }
   ],
   "source": [
    "#boolean1 = not companies[\"name\"].is_unique\n",
    "\n",
    "boolean1 = companies['name'].duplicated().any()\n",
    "\n",
    "boolean1"
   ]
  },
  {
   "cell_type": "code",
   "execution_count": 16,
   "metadata": {},
   "outputs": [
    {
     "data": {
      "text/plain": [
       "True"
      ]
     },
     "execution_count": 16,
     "metadata": {},
     "output_type": "execute_result"
    }
   ],
   "source": [
    "boolean2 = companies['country_code'].duplicated().any()\n",
    "\n",
    "boolean2"
   ]
  },
  {
   "cell_type": "code",
   "execution_count": 17,
   "metadata": {},
   "outputs": [
    {
     "data": {
      "text/plain": [
       "True"
      ]
     },
     "execution_count": 17,
     "metadata": {},
     "output_type": "execute_result"
    }
   ],
   "source": [
    "boolean3 = companies['founded_at'].duplicated().any()\n",
    "\n",
    "boolean3"
   ]
  },
  {
   "cell_type": "markdown",
   "metadata": {},
   "source": [
    "**Ans:** A unique key is a set of one or more than one fields/columns of a table that uniquely identify a record in a database table.Unique key is a constraint that is used to uniquely identify a tuple in a table. Multiple unique keys can present in a table. NULL values are allowed in case of a unique key. These can also be used as foreign keys for another table.\n",
    "There are 10 columns in companies    dataset:\n",
    "permalink,name,homepage_url,category_list,status,country_code,state_code,region,city,founded_at .\n",
    "as we can see from the above three outputs only **Permalink** does not contain duplicate values so we can make this column as a unique key column"
   ]
  },
  {
   "cell_type": "markdown",
   "metadata": {},
   "source": [
    "**Ques 4 :Are there any companies in the rounds2 file which are not present in companies? Answer yes or no: Y/N**"
   ]
  },
  {
   "cell_type": "code",
   "execution_count": 18,
   "metadata": {},
   "outputs": [
    {
     "name": "stdout",
     "output_type": "stream",
     "text": [
      "66368\n"
     ]
    }
   ],
   "source": [
    "companies['permalink'] = companies['permalink'].str.lower()\n",
    "# now the unique count should be same without having to use lower\n",
    "print(len(companies.permalink.unique()))"
   ]
  },
  {
   "cell_type": "code",
   "execution_count": 19,
   "metadata": {},
   "outputs": [
    {
     "name": "stdout",
     "output_type": "stream",
     "text": [
      "66370\n"
     ]
    }
   ],
   "source": [
    "\n",
    "rounds2['permalink'] = rounds2['company_permalink'].str.lower()\n",
    "# now the unique count should be same without having to use lower\n",
    "print(len(rounds2.permalink.unique()))"
   ]
  },
  {
   "cell_type": "markdown",
   "metadata": {},
   "source": [
    "**Ans : (66370 - 66368) So there are 2 compaines information missing that have information in rounds2 table.**"
   ]
  },
  {
   "cell_type": "markdown",
   "metadata": {},
   "source": [
    "**Ques5:Merge the two data frames so that all variables (columns) in the companies frame are added to the rounds2 data frame. Name the merged frame master_frame. How many observations are present in master_frame?**\n",
    "\n",
    "After this, you will need to work only with the master frame."
   ]
  },
  {
   "cell_type": "code",
   "execution_count": 20,
   "metadata": {},
   "outputs": [
    {
     "data": {
      "text/plain": [
       "114949"
      ]
     },
     "execution_count": 20,
     "metadata": {},
     "output_type": "execute_result"
    }
   ],
   "source": [
    "#Merge the two data frames so that all variables (columns) in the companies frame are added to the rounds2 data frame. \n",
    "#Name the merged frame master_frame.\n",
    "master_frame = pd.merge(rounds2, companies, how = 'left', left_on = 'company_permalink', right_on = 'permalink')\n",
    "len(master_frame.index)"
   ]
  },
  {
   "cell_type": "code",
   "execution_count": 21,
   "metadata": {},
   "outputs": [
    {
     "data": {
      "text/html": [
       "<div>\n",
       "<style scoped>\n",
       "    .dataframe tbody tr th:only-of-type {\n",
       "        vertical-align: middle;\n",
       "    }\n",
       "\n",
       "    .dataframe tbody tr th {\n",
       "        vertical-align: top;\n",
       "    }\n",
       "\n",
       "    .dataframe thead th {\n",
       "        text-align: right;\n",
       "    }\n",
       "</style>\n",
       "<table border=\"1\" class=\"dataframe\">\n",
       "  <thead>\n",
       "    <tr style=\"text-align: right;\">\n",
       "      <th></th>\n",
       "      <th>company_permalink</th>\n",
       "      <th>funding_round_permalink</th>\n",
       "      <th>funding_round_type</th>\n",
       "      <th>funding_round_code</th>\n",
       "      <th>funded_at</th>\n",
       "      <th>raised_amount_usd</th>\n",
       "      <th>permalink_x</th>\n",
       "      <th>permalink_y</th>\n",
       "      <th>name</th>\n",
       "      <th>homepage_url</th>\n",
       "      <th>category_list</th>\n",
       "      <th>status</th>\n",
       "      <th>country_code</th>\n",
       "      <th>state_code</th>\n",
       "      <th>region</th>\n",
       "      <th>city</th>\n",
       "      <th>founded_at</th>\n",
       "    </tr>\n",
       "  </thead>\n",
       "  <tbody>\n",
       "    <tr>\n",
       "      <th>0</th>\n",
       "      <td>/organization/-fame</td>\n",
       "      <td>/funding-round/9a01d05418af9f794eebff7ace91f638</td>\n",
       "      <td>venture</td>\n",
       "      <td>B</td>\n",
       "      <td>05-01-2015</td>\n",
       "      <td>10000000.0</td>\n",
       "      <td>/organization/-fame</td>\n",
       "      <td>/organization/-fame</td>\n",
       "      <td>#fame</td>\n",
       "      <td>http://livfame.com</td>\n",
       "      <td>Media</td>\n",
       "      <td>operating</td>\n",
       "      <td>IND</td>\n",
       "      <td>16</td>\n",
       "      <td>Mumbai</td>\n",
       "      <td>Mumbai</td>\n",
       "      <td>NaN</td>\n",
       "    </tr>\n",
       "    <tr>\n",
       "      <th>1</th>\n",
       "      <td>/organization/-qounter</td>\n",
       "      <td>/funding-round/22dacff496eb7acb2b901dec1dfe5633</td>\n",
       "      <td>venture</td>\n",
       "      <td>A</td>\n",
       "      <td>14-10-2014</td>\n",
       "      <td>NaN</td>\n",
       "      <td>/organization/-qounter</td>\n",
       "      <td>/organization/-qounter</td>\n",
       "      <td>:Qounter</td>\n",
       "      <td>http://www.qounter.com</td>\n",
       "      <td>Application Platforms|Real Time|Social Network...</td>\n",
       "      <td>operating</td>\n",
       "      <td>USA</td>\n",
       "      <td>DE</td>\n",
       "      <td>DE - Other</td>\n",
       "      <td>Delaware City</td>\n",
       "      <td>04-09-2014</td>\n",
       "    </tr>\n",
       "    <tr>\n",
       "      <th>2</th>\n",
       "      <td>/organization/-qounter</td>\n",
       "      <td>/funding-round/b44fbb94153f6cdef13083530bb48030</td>\n",
       "      <td>seed</td>\n",
       "      <td>NaN</td>\n",
       "      <td>01-03-2014</td>\n",
       "      <td>700000.0</td>\n",
       "      <td>/organization/-qounter</td>\n",
       "      <td>/organization/-qounter</td>\n",
       "      <td>:Qounter</td>\n",
       "      <td>http://www.qounter.com</td>\n",
       "      <td>Application Platforms|Real Time|Social Network...</td>\n",
       "      <td>operating</td>\n",
       "      <td>USA</td>\n",
       "      <td>DE</td>\n",
       "      <td>DE - Other</td>\n",
       "      <td>Delaware City</td>\n",
       "      <td>04-09-2014</td>\n",
       "    </tr>\n",
       "    <tr>\n",
       "      <th>3</th>\n",
       "      <td>/organization/-the-one-of-them-inc-</td>\n",
       "      <td>/funding-round/650b8f704416801069bb178a1418776b</td>\n",
       "      <td>venture</td>\n",
       "      <td>B</td>\n",
       "      <td>30-01-2014</td>\n",
       "      <td>3406878.0</td>\n",
       "      <td>/organization/-the-one-of-them-inc-</td>\n",
       "      <td>/organization/-the-one-of-them-inc-</td>\n",
       "      <td>(THE) ONE of THEM,Inc.</td>\n",
       "      <td>http://oneofthem.jp</td>\n",
       "      <td>Apps|Games|Mobile</td>\n",
       "      <td>operating</td>\n",
       "      <td>NaN</td>\n",
       "      <td>NaN</td>\n",
       "      <td>NaN</td>\n",
       "      <td>NaN</td>\n",
       "      <td>NaN</td>\n",
       "    </tr>\n",
       "    <tr>\n",
       "      <th>4</th>\n",
       "      <td>/organization/0-6-com</td>\n",
       "      <td>/funding-round/5727accaeaa57461bd22a9bdd945382d</td>\n",
       "      <td>venture</td>\n",
       "      <td>A</td>\n",
       "      <td>19-03-2008</td>\n",
       "      <td>2000000.0</td>\n",
       "      <td>/organization/0-6-com</td>\n",
       "      <td>/organization/0-6-com</td>\n",
       "      <td>0-6.com</td>\n",
       "      <td>http://www.0-6.com</td>\n",
       "      <td>Curated Web</td>\n",
       "      <td>operating</td>\n",
       "      <td>CHN</td>\n",
       "      <td>22</td>\n",
       "      <td>Beijing</td>\n",
       "      <td>Beijing</td>\n",
       "      <td>01-01-2007</td>\n",
       "    </tr>\n",
       "  </tbody>\n",
       "</table>\n",
       "</div>"
      ],
      "text/plain": [
       "                     company_permalink  \\\n",
       "0                  /organization/-fame   \n",
       "1               /organization/-qounter   \n",
       "2               /organization/-qounter   \n",
       "3  /organization/-the-one-of-them-inc-   \n",
       "4                /organization/0-6-com   \n",
       "\n",
       "                           funding_round_permalink funding_round_type  \\\n",
       "0  /funding-round/9a01d05418af9f794eebff7ace91f638            venture   \n",
       "1  /funding-round/22dacff496eb7acb2b901dec1dfe5633            venture   \n",
       "2  /funding-round/b44fbb94153f6cdef13083530bb48030               seed   \n",
       "3  /funding-round/650b8f704416801069bb178a1418776b            venture   \n",
       "4  /funding-round/5727accaeaa57461bd22a9bdd945382d            venture   \n",
       "\n",
       "  funding_round_code   funded_at  raised_amount_usd  \\\n",
       "0                  B  05-01-2015         10000000.0   \n",
       "1                  A  14-10-2014                NaN   \n",
       "2                NaN  01-03-2014           700000.0   \n",
       "3                  B  30-01-2014          3406878.0   \n",
       "4                  A  19-03-2008          2000000.0   \n",
       "\n",
       "                           permalink_x                          permalink_y  \\\n",
       "0                  /organization/-fame                  /organization/-fame   \n",
       "1               /organization/-qounter               /organization/-qounter   \n",
       "2               /organization/-qounter               /organization/-qounter   \n",
       "3  /organization/-the-one-of-them-inc-  /organization/-the-one-of-them-inc-   \n",
       "4                /organization/0-6-com                /organization/0-6-com   \n",
       "\n",
       "                     name            homepage_url  \\\n",
       "0                   #fame      http://livfame.com   \n",
       "1                :Qounter  http://www.qounter.com   \n",
       "2                :Qounter  http://www.qounter.com   \n",
       "3  (THE) ONE of THEM,Inc.     http://oneofthem.jp   \n",
       "4                 0-6.com      http://www.0-6.com   \n",
       "\n",
       "                                       category_list     status country_code  \\\n",
       "0                                              Media  operating          IND   \n",
       "1  Application Platforms|Real Time|Social Network...  operating          USA   \n",
       "2  Application Platforms|Real Time|Social Network...  operating          USA   \n",
       "3                                  Apps|Games|Mobile  operating          NaN   \n",
       "4                                        Curated Web  operating          CHN   \n",
       "\n",
       "  state_code      region           city  founded_at  \n",
       "0         16      Mumbai         Mumbai         NaN  \n",
       "1         DE  DE - Other  Delaware City  04-09-2014  \n",
       "2         DE  DE - Other  Delaware City  04-09-2014  \n",
       "3        NaN         NaN            NaN         NaN  \n",
       "4         22     Beijing        Beijing  01-01-2007  "
      ]
     },
     "execution_count": 21,
     "metadata": {},
     "output_type": "execute_result"
    }
   ],
   "source": [
    "#printing the first few  of master_frame\n",
    "master_frame.head()"
   ]
  },
  {
   "cell_type": "code",
   "execution_count": 21,
   "metadata": {},
   "outputs": [
    {
     "data": {
      "text/plain": [
       "(114949, 17)"
      ]
     },
     "execution_count": 21,
     "metadata": {},
     "output_type": "execute_result"
    }
   ],
   "source": [
    "\n",
    "#checking the number of rows and columns in new dataframe\n",
    "master_frame.shape"
   ]
  },
  {
   "cell_type": "code",
   "execution_count": 22,
   "metadata": {},
   "outputs": [
    {
     "name": "stdout",
     "output_type": "stream",
     "text": [
      "<class 'pandas.core.frame.DataFrame'>\n",
      "Int64Index: 114949 entries, 0 to 114948\n",
      "Data columns (total 17 columns):\n",
      " #   Column                   Non-Null Count   Dtype  \n",
      "---  ------                   --------------   -----  \n",
      " 0   company_permalink        114949 non-null  object \n",
      " 1   funding_round_permalink  114949 non-null  object \n",
      " 2   funding_round_type       114949 non-null  object \n",
      " 3   funding_round_code       31140 non-null   object \n",
      " 4   funded_at                114949 non-null  object \n",
      " 5   raised_amount_usd        94959 non-null   float64\n",
      " 6   permalink_x              114949 non-null  object \n",
      " 7   permalink_y              114942 non-null  object \n",
      " 8   name                     114941 non-null  object \n",
      " 9   homepage_url             108810 non-null  object \n",
      " 10  category_list            111535 non-null  object \n",
      " 11  status                   114942 non-null  object \n",
      " 12  country_code             106271 non-null  object \n",
      " 13  state_code               104003 non-null  object \n",
      " 14  region                   104782 non-null  object \n",
      " 15  city                     104785 non-null  object \n",
      " 16  founded_at               94422 non-null   object \n",
      "dtypes: float64(1), object(16)\n",
      "memory usage: 15.8+ MB\n"
     ]
    }
   ],
   "source": [
    "master_frame.info()"
   ]
  },
  {
   "cell_type": "markdown",
   "metadata": {},
   "source": [
    "**There are 114942 obeservations in the dataframe master_frame**"
   ]
  },
  {
   "cell_type": "markdown",
   "metadata": {},
   "source": [
    "### Data cleaning: \n",
    "Before we start our analysis we have to clean and preprocess the data.\n",
    "- Inspecting Null Values\n",
    "- Dropping unnecessary columns\n",
    "- Dropping unnecessary rows"
   ]
  },
  {
   "cell_type": "code",
   "execution_count": 22,
   "metadata": {},
   "outputs": [
    {
     "data": {
      "text/plain": [
       "company_permalink              0\n",
       "funding_round_permalink        0\n",
       "funding_round_type             0\n",
       "funding_round_code         83809\n",
       "funded_at                      0\n",
       "raised_amount_usd          19990\n",
       "permalink_x                    0\n",
       "permalink_y                    7\n",
       "name                           8\n",
       "homepage_url                6139\n",
       "category_list               3414\n",
       "status                         7\n",
       "country_code                8678\n",
       "state_code                 10946\n",
       "region                     10167\n",
       "city                       10164\n",
       "founded_at                 20527\n",
       "dtype: int64"
      ]
     },
     "execution_count": 22,
     "metadata": {},
     "output_type": "execute_result"
    }
   ],
   "source": [
    "#checking the presence of missing values by using isnull()\n",
    "master_frame.isnull().sum(axis=0)\n"
   ]
  },
  {
   "cell_type": "code",
   "execution_count": 23,
   "metadata": {},
   "outputs": [
    {
     "name": "stdout",
     "output_type": "stream",
     "text": [
      "company_permalink           0.00\n",
      "funding_round_permalink     0.00\n",
      "funding_round_type          0.00\n",
      "funding_round_code         72.91\n",
      "funded_at                   0.00\n",
      "raised_amount_usd          17.39\n",
      "permalink_x                 0.00\n",
      "permalink_y                 0.01\n",
      "name                        0.01\n",
      "homepage_url                5.34\n",
      "category_list               2.97\n",
      "status                      0.01\n",
      "country_code                7.55\n",
      "state_code                  9.52\n",
      "region                      8.84\n",
      "city                        8.84\n",
      "founded_at                 17.86\n",
      "dtype: float64\n"
     ]
    }
   ],
   "source": [
    "#Inspecting the Null values percentage , column-wise\n",
    "print(round(100*(master_frame.isnull().sum()/len(master_frame.index)), 2))"
   ]
  },
  {
   "cell_type": "markdown",
   "metadata": {},
   "source": [
    "There are null values in most of the columns of dataset. Before jumping to the methods of data imputation, we have to understand the reason why data goes missing.\n",
    "\n",
    "- Missing at Random (MAR): Missing at random means that the propensity for a data point to be missing is not related to the missing data, but it is related to some of the observed data\n",
    "\n",
    "- Missing Completely at Random (MCAR): The fact that a certain value is missing has nothing to do with its hypothetical value and with the values of other variables.\n",
    "\n",
    "- Missing not at Random (MNAR): Two possible reasons are that the missing value depends on the hypothetical value (e.g. People with high salaries generally do not want to reveal their incomes in surveys) or missing value is dependent on some other variable’s value (e.g. Let’s assume that females generally don’t want to reveal their ages! Here the missing value in age variable is impacted by gender variable)\n",
    "\n",
    "In the first two cases, it is safe to remove the data with missing values depending upon their occurrences, while in the third case removing observations with missing values can produce a bias in the model. So we have to be really careful before removing observations. \n",
    "\n",
    "It is always advisble that if the amount of missing data is less than 10% of total data than it is better to drop those than to impute .\n",
    "\n"
   ]
  },
  {
   "cell_type": "markdown",
   "metadata": {},
   "source": [
    "**Dropping unnecessary columns:**\n",
    "For Sparks Funds, we are mostly driving our analysis based on funding round type, category, country etc. Hence, so many columns present in the master_frame are not needed, we will drop those columns."
   ]
  },
  {
   "cell_type": "code",
   "execution_count": 24,
   "metadata": {},
   "outputs": [],
   "source": [
    "master_frame = master_frame.drop(['funding_round_code', 'funding_round_permalink', 'funded_at','permalink_x','permalink_y' ,'homepage_url',\n",
    "                                 'state_code', 'region', 'city', 'founded_at','status'], axis = 1)"
   ]
  },
  {
   "cell_type": "code",
   "execution_count": 25,
   "metadata": {},
   "outputs": [
    {
     "data": {
      "text/plain": [
       "(114949, 6)"
      ]
     },
     "execution_count": 25,
     "metadata": {},
     "output_type": "execute_result"
    }
   ],
   "source": [
    "master_frame.shape"
   ]
  },
  {
   "cell_type": "code",
   "execution_count": 26,
   "metadata": {},
   "outputs": [
    {
     "name": "stdout",
     "output_type": "stream",
     "text": [
      "<class 'pandas.core.frame.DataFrame'>\n",
      "Int64Index: 114949 entries, 0 to 114948\n",
      "Data columns (total 6 columns):\n",
      " #   Column              Non-Null Count   Dtype  \n",
      "---  ------              --------------   -----  \n",
      " 0   company_permalink   114949 non-null  object \n",
      " 1   funding_round_type  114949 non-null  object \n",
      " 2   raised_amount_usd   94959 non-null   float64\n",
      " 3   name                114941 non-null  object \n",
      " 4   category_list       111535 non-null  object \n",
      " 5   country_code        106271 non-null  object \n",
      "dtypes: float64(1), object(5)\n",
      "memory usage: 6.1+ MB\n"
     ]
    }
   ],
   "source": [
    "master_frame.info()"
   ]
  },
  {
   "cell_type": "code",
   "execution_count": 27,
   "metadata": {},
   "outputs": [
    {
     "name": "stdout",
     "output_type": "stream",
     "text": [
      "company_permalink      0.00\n",
      "funding_round_type     0.00\n",
      "raised_amount_usd     17.39\n",
      "name                   0.01\n",
      "category_list          2.97\n",
      "country_code           7.55\n",
      "dtype: float64\n"
     ]
    }
   ],
   "source": [
    "#Inspecting the Null values percentage again after deletion, column-wise\n",
    "print(round(100*(master_frame.isnull().sum()/len(master_frame.index)), 2))"
   ]
  },
  {
   "cell_type": "markdown",
   "metadata": {},
   "source": [
    "**Dropping unnecessary rows:**\n",
    "For the remaining columns of master_frame dataframe, we can see that there are columns which still have null counts, let's drop those rows and inspect the dataframe again."
   ]
  },
  {
   "cell_type": "code",
   "execution_count": 28,
   "metadata": {},
   "outputs": [],
   "source": [
    "#Dropping rows based on null columns\n",
    "master_frame = master_frame[~(master_frame['raised_amount_usd'].isnull() |\n",
    "                              master_frame['country_code'].isnull() |master_frame['name'].isnull()|\n",
    "                             master_frame['category_list'].isnull())]"
   ]
  },
  {
   "cell_type": "code",
   "execution_count": 29,
   "metadata": {},
   "outputs": [
    {
     "data": {
      "text/plain": [
       "(88528, 6)"
      ]
     },
     "execution_count": 29,
     "metadata": {},
     "output_type": "execute_result"
    }
   ],
   "source": [
    "master_frame.shape"
   ]
  },
  {
   "cell_type": "code",
   "execution_count": 30,
   "metadata": {},
   "outputs": [
    {
     "data": {
      "text/plain": [
       "company_permalink     0\n",
       "funding_round_type    0\n",
       "raised_amount_usd     0\n",
       "name                  0\n",
       "category_list         0\n",
       "country_code          0\n",
       "dtype: int64"
      ]
     },
     "execution_count": 30,
     "metadata": {},
     "output_type": "execute_result"
    }
   ],
   "source": [
    "master_frame.isnull().sum()"
   ]
  },
  {
   "cell_type": "code",
   "execution_count": 31,
   "metadata": {},
   "outputs": [
    {
     "data": {
      "text/plain": [
       "(88528, 6)"
      ]
     },
     "execution_count": 31,
     "metadata": {},
     "output_type": "execute_result"
    }
   ],
   "source": [
    "#creating new dataframe from the existing one which we will use in checkpoint6(plot)\n",
    "master_frame2= pd.DataFrame(master_frame)\n",
    "master_frame2.shape"
   ]
  },
  {
   "cell_type": "markdown",
   "metadata": {},
   "source": [
    "## Checkpoint 2: Funding Type Analysis\n",
    "\n",
    "Spark Funds wants to choose one of these four investment types(venture, angel, seed, and private equity) for each potential investment they will make. So let's observe and see how many funding types are present in master_frame and then retain the rows with above-mentioned investment types."
   ]
  },
  {
   "cell_type": "code",
   "execution_count": 32,
   "metadata": {},
   "outputs": [
    {
     "data": {
      "text/plain": [
       "venture                  47809\n",
       "seed                     21094\n",
       "debt_financing            6506\n",
       "angel                     4400\n",
       "grant                     1939\n",
       "private_equity            1820\n",
       "undisclosed               1345\n",
       "convertible_note          1320\n",
       "equity_crowdfunding       1128\n",
       "post_ipo_equity            598\n",
       "product_crowdfunding       330\n",
       "post_ipo_debt              151\n",
       "non_equity_assistance       60\n",
       "secondary_market            28\n",
       "Name: funding_round_type, dtype: int64"
      ]
     },
     "execution_count": 32,
     "metadata": {},
     "output_type": "execute_result"
    }
   ],
   "source": [
    "#Observing the unique values in the column funding_round_type\n",
    "master_frame.funding_round_type.value_counts()"
   ]
  },
  {
   "cell_type": "markdown",
   "metadata": {},
   "source": [
    "**2.2 Calculate the most representative value of the investment amount for each of the four funding types (venture, angel, seed, and private equity\n",
    "\n",
    "- Average funding amount of venture type\n",
    "- Average funding amount of seed type\n",
    "- Average funding amount of angel type\n",
    "- Average funding amount of private_equity type"
   ]
  },
  {
   "cell_type": "code",
   "execution_count": 33,
   "metadata": {},
   "outputs": [
    {
     "data": {
      "text/html": [
       "<div>\n",
       "<style scoped>\n",
       "    .dataframe tbody tr th:only-of-type {\n",
       "        vertical-align: middle;\n",
       "    }\n",
       "\n",
       "    .dataframe tbody tr th {\n",
       "        vertical-align: top;\n",
       "    }\n",
       "\n",
       "    .dataframe thead th {\n",
       "        text-align: right;\n",
       "    }\n",
       "</style>\n",
       "<table border=\"1\" class=\"dataframe\">\n",
       "  <thead>\n",
       "    <tr style=\"text-align: right;\">\n",
       "      <th></th>\n",
       "      <th>company_permalink</th>\n",
       "      <th>funding_round_type</th>\n",
       "      <th>raised_amount_usd</th>\n",
       "      <th>name</th>\n",
       "      <th>category_list</th>\n",
       "      <th>country_code</th>\n",
       "    </tr>\n",
       "  </thead>\n",
       "  <tbody>\n",
       "    <tr>\n",
       "      <th>0</th>\n",
       "      <td>/organization/-fame</td>\n",
       "      <td>venture</td>\n",
       "      <td>10000000.0</td>\n",
       "      <td>#fame</td>\n",
       "      <td>Media</td>\n",
       "      <td>IND</td>\n",
       "    </tr>\n",
       "    <tr>\n",
       "      <th>2</th>\n",
       "      <td>/organization/-qounter</td>\n",
       "      <td>seed</td>\n",
       "      <td>700000.0</td>\n",
       "      <td>:Qounter</td>\n",
       "      <td>Application Platforms|Real Time|Social Network...</td>\n",
       "      <td>USA</td>\n",
       "    </tr>\n",
       "    <tr>\n",
       "      <th>4</th>\n",
       "      <td>/organization/0-6-com</td>\n",
       "      <td>venture</td>\n",
       "      <td>2000000.0</td>\n",
       "      <td>0-6.com</td>\n",
       "      <td>Curated Web</td>\n",
       "      <td>CHN</td>\n",
       "    </tr>\n",
       "    <tr>\n",
       "      <th>7</th>\n",
       "      <td>/organization/0ndine-biomedical-inc</td>\n",
       "      <td>seed</td>\n",
       "      <td>43360.0</td>\n",
       "      <td>Ondine Biomedical Inc.</td>\n",
       "      <td>Biotechnology</td>\n",
       "      <td>CAN</td>\n",
       "    </tr>\n",
       "    <tr>\n",
       "      <th>8</th>\n",
       "      <td>/organization/0ndine-biomedical-inc</td>\n",
       "      <td>venture</td>\n",
       "      <td>719491.0</td>\n",
       "      <td>Ondine Biomedical Inc.</td>\n",
       "      <td>Biotechnology</td>\n",
       "      <td>CAN</td>\n",
       "    </tr>\n",
       "  </tbody>\n",
       "</table>\n",
       "</div>"
      ],
      "text/plain": [
       "                     company_permalink funding_round_type  raised_amount_usd  \\\n",
       "0                  /organization/-fame            venture         10000000.0   \n",
       "2               /organization/-qounter               seed           700000.0   \n",
       "4                /organization/0-6-com            venture          2000000.0   \n",
       "7  /organization/0ndine-biomedical-inc               seed            43360.0   \n",
       "8  /organization/0ndine-biomedical-inc            venture           719491.0   \n",
       "\n",
       "                     name                                      category_list  \\\n",
       "0                   #fame                                              Media   \n",
       "2                :Qounter  Application Platforms|Real Time|Social Network...   \n",
       "4                 0-6.com                                        Curated Web   \n",
       "7  Ondine Biomedical Inc.                                      Biotechnology   \n",
       "8  Ondine Biomedical Inc.                                      Biotechnology   \n",
       "\n",
       "  country_code  \n",
       "0          IND  \n",
       "2          USA  \n",
       "4          CHN  \n",
       "7          CAN  \n",
       "8          CAN  "
      ]
     },
     "execution_count": 33,
     "metadata": {},
     "output_type": "execute_result"
    }
   ],
   "source": [
    "#Retaining the rows with only four investment types\n",
    "master_frame = master_frame[(master_frame['funding_round_type'] == 'venture') \n",
    "                            | (master_frame['funding_round_type'] == 'seed')\n",
    "                            | (master_frame['funding_round_type'] == 'angel')\n",
    "                            | (master_frame['funding_round_type'] == 'private_equity')]\n",
    "master_frame.head()\n"
   ]
  },
  {
   "cell_type": "code",
   "execution_count": 34,
   "metadata": {},
   "outputs": [
    {
     "data": {
      "text/html": [
       "<div>\n",
       "<style scoped>\n",
       "    .dataframe tbody tr th:only-of-type {\n",
       "        vertical-align: middle;\n",
       "    }\n",
       "\n",
       "    .dataframe tbody tr th {\n",
       "        vertical-align: top;\n",
       "    }\n",
       "\n",
       "    .dataframe thead th {\n",
       "        text-align: right;\n",
       "    }\n",
       "</style>\n",
       "<table border=\"1\" class=\"dataframe\">\n",
       "  <thead>\n",
       "    <tr style=\"text-align: right;\">\n",
       "      <th></th>\n",
       "      <th>company_permalink</th>\n",
       "      <th>funding_round_type</th>\n",
       "      <th>raised_amount_usd</th>\n",
       "      <th>name</th>\n",
       "      <th>category_list</th>\n",
       "      <th>country_code</th>\n",
       "    </tr>\n",
       "  </thead>\n",
       "  <tbody>\n",
       "    <tr>\n",
       "      <th>0</th>\n",
       "      <td>/organization/-fame</td>\n",
       "      <td>venture</td>\n",
       "      <td>10.000000</td>\n",
       "      <td>#fame</td>\n",
       "      <td>Media</td>\n",
       "      <td>IND</td>\n",
       "    </tr>\n",
       "    <tr>\n",
       "      <th>2</th>\n",
       "      <td>/organization/-qounter</td>\n",
       "      <td>seed</td>\n",
       "      <td>0.700000</td>\n",
       "      <td>:Qounter</td>\n",
       "      <td>Application Platforms|Real Time|Social Network...</td>\n",
       "      <td>USA</td>\n",
       "    </tr>\n",
       "    <tr>\n",
       "      <th>4</th>\n",
       "      <td>/organization/0-6-com</td>\n",
       "      <td>venture</td>\n",
       "      <td>2.000000</td>\n",
       "      <td>0-6.com</td>\n",
       "      <td>Curated Web</td>\n",
       "      <td>CHN</td>\n",
       "    </tr>\n",
       "    <tr>\n",
       "      <th>7</th>\n",
       "      <td>/organization/0ndine-biomedical-inc</td>\n",
       "      <td>seed</td>\n",
       "      <td>0.043360</td>\n",
       "      <td>Ondine Biomedical Inc.</td>\n",
       "      <td>Biotechnology</td>\n",
       "      <td>CAN</td>\n",
       "    </tr>\n",
       "    <tr>\n",
       "      <th>8</th>\n",
       "      <td>/organization/0ndine-biomedical-inc</td>\n",
       "      <td>venture</td>\n",
       "      <td>0.719491</td>\n",
       "      <td>Ondine Biomedical Inc.</td>\n",
       "      <td>Biotechnology</td>\n",
       "      <td>CAN</td>\n",
       "    </tr>\n",
       "  </tbody>\n",
       "</table>\n",
       "</div>"
      ],
      "text/plain": [
       "                     company_permalink funding_round_type  raised_amount_usd  \\\n",
       "0                  /organization/-fame            venture          10.000000   \n",
       "2               /organization/-qounter               seed           0.700000   \n",
       "4                /organization/0-6-com            venture           2.000000   \n",
       "7  /organization/0ndine-biomedical-inc               seed           0.043360   \n",
       "8  /organization/0ndine-biomedical-inc            venture           0.719491   \n",
       "\n",
       "                     name                                      category_list  \\\n",
       "0                   #fame                                              Media   \n",
       "2                :Qounter  Application Platforms|Real Time|Social Network...   \n",
       "4                 0-6.com                                        Curated Web   \n",
       "7  Ondine Biomedical Inc.                                      Biotechnology   \n",
       "8  Ondine Biomedical Inc.                                      Biotechnology   \n",
       "\n",
       "  country_code  \n",
       "0          IND  \n",
       "2          USA  \n",
       "4          CHN  \n",
       "7          CAN  \n",
       "8          CAN  "
      ]
     },
     "execution_count": 34,
     "metadata": {},
     "output_type": "execute_result"
    }
   ],
   "source": [
    "#Converting $ to million $.\n",
    "master_frame['raised_amount_usd'] = master_frame['raised_amount_usd']/1000000\n",
    "master_frame.head()"
   ]
  },
  {
   "cell_type": "code",
   "execution_count": 35,
   "metadata": {},
   "outputs": [
    {
     "data": {
      "text/plain": [
       "funding_round_type\n",
       "angel              0.97\n",
       "private_equity    73.94\n",
       "seed               0.75\n",
       "venture           11.72\n",
       "Name: raised_amount_usd, dtype: float64"
      ]
     },
     "execution_count": 35,
     "metadata": {},
     "output_type": "execute_result"
    }
   ],
   "source": [
    "#calculating average investment amount for each of the four funding types.\n",
    "round(master_frame.groupby('funding_round_type').raised_amount_usd.mean(), 2)"
   ]
  },
  {
   "cell_type": "code",
   "execution_count": 36,
   "metadata": {},
   "outputs": [],
   "source": [
    "#Retaining rows with only venture type. As Spark Funds wants to invest between 5 to 15 million USD per investment round\n",
    "master_frame = master_frame[master_frame['funding_round_type'] == 'venture'] \n",
    "\n",
    "#Dropping the column 'funding_round_type' as it is going to be venture type this point forward\n",
    "master_frame = master_frame.drop(['funding_round_type'], axis = 1)"
   ]
  },
  {
   "cell_type": "markdown",
   "metadata": {},
   "source": [
    "## Checkpoint 3: Country Analysis\n",
    "### Subtask 3.1: Analysing the countries based on investment amount\n",
    "\n",
    "- Spark Funds wants to see the top nine countries which have received the highest total funding (across ALL sectors for the chosen investment type)\n",
    "\n",
    "- For the chosen investment type, make a data frame named top9 with the top nine countries (based on the total investment amount each country has received)\n",
    "\n",
    "- Identify the top three English-speaking countries in the data frame top9."
   ]
  },
  {
   "cell_type": "code",
   "execution_count": 37,
   "metadata": {},
   "outputs": [
    {
     "data": {
      "text/html": [
       "<div>\n",
       "<style scoped>\n",
       "    .dataframe tbody tr th:only-of-type {\n",
       "        vertical-align: middle;\n",
       "    }\n",
       "\n",
       "    .dataframe tbody tr th {\n",
       "        vertical-align: top;\n",
       "    }\n",
       "\n",
       "    .dataframe thead th {\n",
       "        text-align: right;\n",
       "    }\n",
       "</style>\n",
       "<table border=\"1\" class=\"dataframe\">\n",
       "  <thead>\n",
       "    <tr style=\"text-align: right;\">\n",
       "      <th></th>\n",
       "      <th>raised_amount_usd</th>\n",
       "    </tr>\n",
       "    <tr>\n",
       "      <th>country_code</th>\n",
       "      <th></th>\n",
       "    </tr>\n",
       "  </thead>\n",
       "  <tbody>\n",
       "    <tr>\n",
       "      <th>USA</th>\n",
       "      <td>420068.029342</td>\n",
       "    </tr>\n",
       "    <tr>\n",
       "      <th>CHN</th>\n",
       "      <td>39338.918773</td>\n",
       "    </tr>\n",
       "    <tr>\n",
       "      <th>GBR</th>\n",
       "      <td>20072.813004</td>\n",
       "    </tr>\n",
       "    <tr>\n",
       "      <th>IND</th>\n",
       "      <td>14261.508718</td>\n",
       "    </tr>\n",
       "    <tr>\n",
       "      <th>CAN</th>\n",
       "      <td>9482.217668</td>\n",
       "    </tr>\n",
       "    <tr>\n",
       "      <th>FRA</th>\n",
       "      <td>7226.851352</td>\n",
       "    </tr>\n",
       "    <tr>\n",
       "      <th>ISR</th>\n",
       "      <td>6854.350477</td>\n",
       "    </tr>\n",
       "    <tr>\n",
       "      <th>DEU</th>\n",
       "      <td>6306.921981</td>\n",
       "    </tr>\n",
       "    <tr>\n",
       "      <th>JPN</th>\n",
       "      <td>3167.647127</td>\n",
       "    </tr>\n",
       "  </tbody>\n",
       "</table>\n",
       "</div>"
      ],
      "text/plain": [
       "              raised_amount_usd\n",
       "country_code                   \n",
       "USA               420068.029342\n",
       "CHN                39338.918773\n",
       "GBR                20072.813004\n",
       "IND                14261.508718\n",
       "CAN                 9482.217668\n",
       "FRA                 7226.851352\n",
       "ISR                 6854.350477\n",
       "DEU                 6306.921981\n",
       "JPN                 3167.647127"
      ]
     },
     "execution_count": 37,
     "metadata": {},
     "output_type": "execute_result"
    }
   ],
   "source": [
    "top9 = master_frame.pivot_table(values = 'raised_amount_usd', index = 'country_code', aggfunc = 'sum')\n",
    "top9 = top9.sort_values(by = 'raised_amount_usd', ascending = False)\n",
    "top9 = top9.iloc[:9, ]\n",
    "top9"
   ]
  },
  {
   "cell_type": "code",
   "execution_count": 38,
   "metadata": {},
   "outputs": [],
   "source": [
    "#Retaining rows with only USA, GBR and IND country_codes. As SparksFunds wants to invest in only top three English speaking countries.\n",
    "master_frame = master_frame[(master_frame['country_code'] == 'USA')\n",
    "                            | (master_frame['country_code'] == 'GBR')\n",
    "                            | (master_frame['country_code'] == 'IND')]"
   ]
  },
  {
   "cell_type": "markdown",
   "metadata": {},
   "source": [
    "## Cheeckpoint 4: Sector Analysis 1\n",
    "### Subtask 4.1: Extract the primary sector of each category\n",
    "Extract the primary sector value into category_list column. According to the business rule the first string before the vertical bar will be considered the primary sector."
   ]
  },
  {
   "cell_type": "code",
   "execution_count": 39,
   "metadata": {},
   "outputs": [],
   "source": [
    "#Extracting the primary vector value\n",
    "master_frame['category_list'] = master_frame['category_list'].apply(lambda x: x.split('|')[0])"
   ]
  },
  {
   "cell_type": "markdown",
   "metadata": {},
   "source": [
    "### 4.2: Map each primary sector to one of the eight main sectors\n",
    "Use the mapping file 'mapping.csv' to map each primary sector to one of the eight main sectors (Note that ‘Others’ is also considered one of the main sectors)"
   ]
  },
  {
   "cell_type": "code",
   "execution_count": 40,
   "metadata": {},
   "outputs": [
    {
     "data": {
      "text/html": [
       "<div>\n",
       "<style scoped>\n",
       "    .dataframe tbody tr th:only-of-type {\n",
       "        vertical-align: middle;\n",
       "    }\n",
       "\n",
       "    .dataframe tbody tr th {\n",
       "        vertical-align: top;\n",
       "    }\n",
       "\n",
       "    .dataframe thead th {\n",
       "        text-align: right;\n",
       "    }\n",
       "</style>\n",
       "<table border=\"1\" class=\"dataframe\">\n",
       "  <thead>\n",
       "    <tr style=\"text-align: right;\">\n",
       "      <th></th>\n",
       "      <th>category_list</th>\n",
       "      <th>Automotive &amp; Sports</th>\n",
       "      <th>Blanks</th>\n",
       "      <th>Cleantech / Semiconductors</th>\n",
       "      <th>Entertainment</th>\n",
       "      <th>Health</th>\n",
       "      <th>Manufacturing</th>\n",
       "      <th>News, Search and Messaging</th>\n",
       "      <th>Others</th>\n",
       "      <th>Social, Finance, Analytics, Advertising</th>\n",
       "    </tr>\n",
       "  </thead>\n",
       "  <tbody>\n",
       "    <tr>\n",
       "      <th>0</th>\n",
       "      <td>NaN</td>\n",
       "      <td>0</td>\n",
       "      <td>1</td>\n",
       "      <td>0</td>\n",
       "      <td>0</td>\n",
       "      <td>0</td>\n",
       "      <td>0</td>\n",
       "      <td>0</td>\n",
       "      <td>0</td>\n",
       "      <td>0</td>\n",
       "    </tr>\n",
       "    <tr>\n",
       "      <th>1</th>\n",
       "      <td>3D</td>\n",
       "      <td>0</td>\n",
       "      <td>0</td>\n",
       "      <td>0</td>\n",
       "      <td>0</td>\n",
       "      <td>0</td>\n",
       "      <td>1</td>\n",
       "      <td>0</td>\n",
       "      <td>0</td>\n",
       "      <td>0</td>\n",
       "    </tr>\n",
       "    <tr>\n",
       "      <th>2</th>\n",
       "      <td>3D Printing</td>\n",
       "      <td>0</td>\n",
       "      <td>0</td>\n",
       "      <td>0</td>\n",
       "      <td>0</td>\n",
       "      <td>0</td>\n",
       "      <td>1</td>\n",
       "      <td>0</td>\n",
       "      <td>0</td>\n",
       "      <td>0</td>\n",
       "    </tr>\n",
       "    <tr>\n",
       "      <th>3</th>\n",
       "      <td>3D Technology</td>\n",
       "      <td>0</td>\n",
       "      <td>0</td>\n",
       "      <td>0</td>\n",
       "      <td>0</td>\n",
       "      <td>0</td>\n",
       "      <td>1</td>\n",
       "      <td>0</td>\n",
       "      <td>0</td>\n",
       "      <td>0</td>\n",
       "    </tr>\n",
       "    <tr>\n",
       "      <th>4</th>\n",
       "      <td>Accounting</td>\n",
       "      <td>0</td>\n",
       "      <td>0</td>\n",
       "      <td>0</td>\n",
       "      <td>0</td>\n",
       "      <td>0</td>\n",
       "      <td>0</td>\n",
       "      <td>0</td>\n",
       "      <td>0</td>\n",
       "      <td>1</td>\n",
       "    </tr>\n",
       "  </tbody>\n",
       "</table>\n",
       "</div>"
      ],
      "text/plain": [
       "   category_list  Automotive & Sports  Blanks  Cleantech / Semiconductors  \\\n",
       "0            NaN                    0       1                           0   \n",
       "1             3D                    0       0                           0   \n",
       "2    3D Printing                    0       0                           0   \n",
       "3  3D Technology                    0       0                           0   \n",
       "4     Accounting                    0       0                           0   \n",
       "\n",
       "   Entertainment  Health  Manufacturing  News, Search and Messaging  Others  \\\n",
       "0              0       0              0                           0       0   \n",
       "1              0       0              1                           0       0   \n",
       "2              0       0              1                           0       0   \n",
       "3              0       0              1                           0       0   \n",
       "4              0       0              0                           0       0   \n",
       "\n",
       "   Social, Finance, Analytics, Advertising  \n",
       "0                                        0  \n",
       "1                                        0  \n",
       "2                                        0  \n",
       "3                                        0  \n",
       "4                                        1  "
      ]
     },
     "execution_count": 40,
     "metadata": {},
     "output_type": "execute_result"
    }
   ],
   "source": [
    "#Reading mapping.csv file \n",
    "mapping = pd.read_csv('mapping.csv')\n",
    "mapping.category_list = mapping.category_list.replace({'0':'na', '2.na' :'2.0'}, regex=True)\n",
    "mapping.head()"
   ]
  },
  {
   "cell_type": "markdown",
   "metadata": {},
   "source": [
    "Reshaping the mapping dataframe to merge with the master_frame dataframe. Using melt() function to unpivot the table."
   ]
  },
  {
   "cell_type": "code",
   "execution_count": 41,
   "metadata": {},
   "outputs": [
    {
     "data": {
      "text/html": [
       "<div>\n",
       "<style scoped>\n",
       "    .dataframe tbody tr th:only-of-type {\n",
       "        vertical-align: middle;\n",
       "    }\n",
       "\n",
       "    .dataframe tbody tr th {\n",
       "        vertical-align: top;\n",
       "    }\n",
       "\n",
       "    .dataframe thead th {\n",
       "        text-align: right;\n",
       "    }\n",
       "</style>\n",
       "<table border=\"1\" class=\"dataframe\">\n",
       "  <thead>\n",
       "    <tr style=\"text-align: right;\">\n",
       "      <th></th>\n",
       "      <th>category_list</th>\n",
       "      <th>main_sector</th>\n",
       "    </tr>\n",
       "  </thead>\n",
       "  <tbody>\n",
       "    <tr>\n",
       "      <th>1</th>\n",
       "      <td>3D</td>\n",
       "      <td>Manufacturing</td>\n",
       "    </tr>\n",
       "    <tr>\n",
       "      <th>2</th>\n",
       "      <td>3D Printing</td>\n",
       "      <td>Manufacturing</td>\n",
       "    </tr>\n",
       "    <tr>\n",
       "      <th>3</th>\n",
       "      <td>3D Technology</td>\n",
       "      <td>Manufacturing</td>\n",
       "    </tr>\n",
       "    <tr>\n",
       "      <th>7</th>\n",
       "      <td>Advanced Materials</td>\n",
       "      <td>Manufacturing</td>\n",
       "    </tr>\n",
       "    <tr>\n",
       "      <th>15</th>\n",
       "      <td>Agriculture</td>\n",
       "      <td>Manufacturing</td>\n",
       "    </tr>\n",
       "  </tbody>\n",
       "</table>\n",
       "</div>"
      ],
      "text/plain": [
       "         category_list    main_sector\n",
       "1                   3D  Manufacturing\n",
       "2          3D Printing  Manufacturing\n",
       "3        3D Technology  Manufacturing\n",
       "7   Advanced Materials  Manufacturing\n",
       "15         Agriculture  Manufacturing"
      ]
     },
     "execution_count": 41,
     "metadata": {},
     "output_type": "execute_result"
    }
   ],
   "source": [
    "\n",
    "mapping = pd.melt(mapping, id_vars =['category_list'], value_vars =['Manufacturing','Automotive & Sports',\n",
    "                                                              'Cleantech / Semiconductors','Entertainment',\n",
    "                                                             'Health','News, Search and Messaging','Others',\n",
    "                                                             'Social, Finance, Analytics, Advertising']) \n",
    "mapping = mapping[~(mapping.value == 0)]\n",
    "mapping = mapping.drop('value', axis = 1)\n",
    "mapping = mapping.rename(columns = {\"variable\":\"main_sector\"})\n",
    "mapping.head()"
   ]
  },
  {
   "cell_type": "code",
   "execution_count": 42,
   "metadata": {},
   "outputs": [
    {
     "data": {
      "text/html": [
       "<div>\n",
       "<style scoped>\n",
       "    .dataframe tbody tr th:only-of-type {\n",
       "        vertical-align: middle;\n",
       "    }\n",
       "\n",
       "    .dataframe tbody tr th {\n",
       "        vertical-align: top;\n",
       "    }\n",
       "\n",
       "    .dataframe thead th {\n",
       "        text-align: right;\n",
       "    }\n",
       "</style>\n",
       "<table border=\"1\" class=\"dataframe\">\n",
       "  <thead>\n",
       "    <tr style=\"text-align: right;\">\n",
       "      <th></th>\n",
       "      <th>company_permalink</th>\n",
       "      <th>raised_amount_usd</th>\n",
       "      <th>name</th>\n",
       "      <th>category_list</th>\n",
       "      <th>country_code</th>\n",
       "      <th>main_sector</th>\n",
       "    </tr>\n",
       "  </thead>\n",
       "  <tbody>\n",
       "    <tr>\n",
       "      <th>0</th>\n",
       "      <td>/organization/-fame</td>\n",
       "      <td>10.0</td>\n",
       "      <td>#fame</td>\n",
       "      <td>Media</td>\n",
       "      <td>IND</td>\n",
       "      <td>Entertainment</td>\n",
       "    </tr>\n",
       "    <tr>\n",
       "      <th>1</th>\n",
       "      <td>/organization/0xdata</td>\n",
       "      <td>20.0</td>\n",
       "      <td>H2O.ai</td>\n",
       "      <td>Analytics</td>\n",
       "      <td>USA</td>\n",
       "      <td>Social, Finance, Analytics, Advertising</td>\n",
       "    </tr>\n",
       "    <tr>\n",
       "      <th>2</th>\n",
       "      <td>/organization/0xdata</td>\n",
       "      <td>1.7</td>\n",
       "      <td>H2O.ai</td>\n",
       "      <td>Analytics</td>\n",
       "      <td>USA</td>\n",
       "      <td>Social, Finance, Analytics, Advertising</td>\n",
       "    </tr>\n",
       "    <tr>\n",
       "      <th>3</th>\n",
       "      <td>/organization/0xdata</td>\n",
       "      <td>8.9</td>\n",
       "      <td>H2O.ai</td>\n",
       "      <td>Analytics</td>\n",
       "      <td>USA</td>\n",
       "      <td>Social, Finance, Analytics, Advertising</td>\n",
       "    </tr>\n",
       "    <tr>\n",
       "      <th>4</th>\n",
       "      <td>/organization/1-mainstream</td>\n",
       "      <td>5.0</td>\n",
       "      <td>1 Mainstream</td>\n",
       "      <td>Apps</td>\n",
       "      <td>USA</td>\n",
       "      <td>News, Search and Messaging</td>\n",
       "    </tr>\n",
       "  </tbody>\n",
       "</table>\n",
       "</div>"
      ],
      "text/plain": [
       "            company_permalink  raised_amount_usd          name category_list  \\\n",
       "0         /organization/-fame               10.0         #fame         Media   \n",
       "1        /organization/0xdata               20.0        H2O.ai     Analytics   \n",
       "2        /organization/0xdata                1.7        H2O.ai     Analytics   \n",
       "3        /organization/0xdata                8.9        H2O.ai     Analytics   \n",
       "4  /organization/1-mainstream                5.0  1 Mainstream          Apps   \n",
       "\n",
       "  country_code                              main_sector  \n",
       "0          IND                            Entertainment  \n",
       "1          USA  Social, Finance, Analytics, Advertising  \n",
       "2          USA  Social, Finance, Analytics, Advertising  \n",
       "3          USA  Social, Finance, Analytics, Advertising  \n",
       "4          USA               News, Search and Messaging  "
      ]
     },
     "execution_count": 42,
     "metadata": {},
     "output_type": "execute_result"
    }
   ],
   "source": [
    "master_frame = master_frame.merge(mapping, how = 'left', on ='category_list')\n",
    "master_frame.head()"
   ]
  },
  {
   "cell_type": "markdown",
   "metadata": {},
   "source": [
    "print the primary sectors which have no main sectors in the master_frame:\n"
   ]
  },
  {
   "cell_type": "code",
   "execution_count": 43,
   "metadata": {},
   "outputs": [
    {
     "name": "stdout",
     "output_type": "stream",
     "text": [
      "['Nanotechnology' 'Natural Gas Uses' 'Natural Language Processing'\n",
      " 'Enterprise 2.0' 'Adaptive Equipment' 'Racing' 'Specialty Retail'\n",
      " 'Biotechnology and Semiconductor' 'Rapidly Expanding' 'Navigation'\n",
      " 'Product Search' 'GreenTech' 'Retirement']\n"
     ]
    }
   ],
   "source": [
    "print(master_frame[master_frame.main_sector.isnull()].category_list.unique())"
   ]
  },
  {
   "cell_type": "markdown",
   "metadata": {},
   "source": [
    "Number of rows with NaN masin_sector value\n"
   ]
  },
  {
   "cell_type": "code",
   "execution_count": 44,
   "metadata": {},
   "outputs": [
    {
     "data": {
      "text/plain": [
       "165"
      ]
     },
     "execution_count": 44,
     "metadata": {},
     "output_type": "execute_result"
    }
   ],
   "source": [
    "\n",
    "len(master_frame[master_frame.main_sector.isnull()])"
   ]
  },
  {
   "cell_type": "code",
   "execution_count": 46,
   "metadata": {},
   "outputs": [
    {
     "data": {
      "text/plain": [
       "38638"
      ]
     },
     "execution_count": 46,
     "metadata": {},
     "output_type": "execute_result"
    }
   ],
   "source": [
    "#Retaining the rows which have main_sector values\n",
    "master_frame = master_frame[~(master_frame.main_sector.isnull())]\n",
    "len(master_frame.index)"
   ]
  },
  {
   "cell_type": "markdown",
   "metadata": {},
   "source": [
    "## Checkpoint 5: Sector Analysis 2"
   ]
  },
  {
   "cell_type": "markdown",
   "metadata": {},
   "source": [
    "### Subtask 5.1: Create DataFrames D1, D2, D3 based on three countries\n",
    "\n",
    "Create three separate data frames D1, D2 and D3 for each of the three countries containing the observations of funding type FT falling within the 5-15 million USD range. The three data frames should contain:\n",
    "\n",
    "- All the columns of the master_frame along with the primary sector and the main sector\n",
    "\n",
    "- The total number (or count) of investments for each main sector in a separate column\n",
    "\n",
    "- The total amount invested in each main sector in a separate column"
   ]
  },
  {
   "cell_type": "markdown",
   "metadata": {},
   "source": [
    "**DataFrame 1(D1):**"
   ]
  },
  {
   "cell_type": "code",
   "execution_count": 45,
   "metadata": {},
   "outputs": [
    {
     "name": "stderr",
     "output_type": "stream",
     "text": [
      "/Users/manishkaushal/opt/anaconda3/lib/python3.8/site-packages/pandas/core/reshape/merge.py:618: UserWarning: merging between different levels can give an unintended result (1 levels on the left, 2 on the right)\n",
      "  warnings.warn(msg, UserWarning)\n"
     ]
    },
    {
     "data": {
      "text/html": [
       "<div>\n",
       "<style scoped>\n",
       "    .dataframe tbody tr th:only-of-type {\n",
       "        vertical-align: middle;\n",
       "    }\n",
       "\n",
       "    .dataframe tbody tr th {\n",
       "        vertical-align: top;\n",
       "    }\n",
       "\n",
       "    .dataframe thead th {\n",
       "        text-align: right;\n",
       "    }\n",
       "</style>\n",
       "<table border=\"1\" class=\"dataframe\">\n",
       "  <thead>\n",
       "    <tr style=\"text-align: right;\">\n",
       "      <th></th>\n",
       "      <th>company_permalink</th>\n",
       "      <th>raised_amount_usd</th>\n",
       "      <th>name</th>\n",
       "      <th>category_list</th>\n",
       "      <th>country_code</th>\n",
       "      <th>main_sector</th>\n",
       "      <th>(raised_amount_usd, Total_amount)</th>\n",
       "      <th>(raised_amount_usd, Total_count)</th>\n",
       "    </tr>\n",
       "  </thead>\n",
       "  <tbody>\n",
       "    <tr>\n",
       "      <th>0</th>\n",
       "      <td>/organization/0xdata</td>\n",
       "      <td>8.900000</td>\n",
       "      <td>H2O.ai</td>\n",
       "      <td>Analytics</td>\n",
       "      <td>USA</td>\n",
       "      <td>Social, Finance, Analytics, Advertising</td>\n",
       "      <td>23807.376964</td>\n",
       "      <td>2714.0</td>\n",
       "    </tr>\n",
       "    <tr>\n",
       "      <th>1</th>\n",
       "      <td>/organization/1-mainstream</td>\n",
       "      <td>5.000000</td>\n",
       "      <td>1 Mainstream</td>\n",
       "      <td>Apps</td>\n",
       "      <td>USA</td>\n",
       "      <td>News, Search and Messaging</td>\n",
       "      <td>13959.567428</td>\n",
       "      <td>1582.0</td>\n",
       "    </tr>\n",
       "    <tr>\n",
       "      <th>2</th>\n",
       "      <td>/organization/128-technology</td>\n",
       "      <td>11.999347</td>\n",
       "      <td>128 Technology</td>\n",
       "      <td>Service Providers</td>\n",
       "      <td>USA</td>\n",
       "      <td>Others</td>\n",
       "      <td>26321.007002</td>\n",
       "      <td>2950.0</td>\n",
       "    </tr>\n",
       "    <tr>\n",
       "      <th>3</th>\n",
       "      <td>/organization/1366-technologies</td>\n",
       "      <td>15.000000</td>\n",
       "      <td>1366 Technologies</td>\n",
       "      <td>Manufacturing</td>\n",
       "      <td>USA</td>\n",
       "      <td>Manufacturing</td>\n",
       "      <td>7258.553378</td>\n",
       "      <td>799.0</td>\n",
       "    </tr>\n",
       "    <tr>\n",
       "      <th>4</th>\n",
       "      <td>/organization/1366-technologies</td>\n",
       "      <td>5.000000</td>\n",
       "      <td>1366 Technologies</td>\n",
       "      <td>Manufacturing</td>\n",
       "      <td>USA</td>\n",
       "      <td>Manufacturing</td>\n",
       "      <td>7258.553378</td>\n",
       "      <td>799.0</td>\n",
       "    </tr>\n",
       "  </tbody>\n",
       "</table>\n",
       "</div>"
      ],
      "text/plain": [
       "                 company_permalink  raised_amount_usd               name  \\\n",
       "0             /organization/0xdata           8.900000             H2O.ai   \n",
       "1       /organization/1-mainstream           5.000000       1 Mainstream   \n",
       "2     /organization/128-technology          11.999347     128 Technology   \n",
       "3  /organization/1366-technologies          15.000000  1366 Technologies   \n",
       "4  /organization/1366-technologies           5.000000  1366 Technologies   \n",
       "\n",
       "       category_list country_code                              main_sector  \\\n",
       "0          Analytics          USA  Social, Finance, Analytics, Advertising   \n",
       "1               Apps          USA               News, Search and Messaging   \n",
       "2  Service Providers          USA                                   Others   \n",
       "3      Manufacturing          USA                            Manufacturing   \n",
       "4      Manufacturing          USA                            Manufacturing   \n",
       "\n",
       "   (raised_amount_usd, Total_amount)  (raised_amount_usd, Total_count)  \n",
       "0                       23807.376964                            2714.0  \n",
       "1                       13959.567428                            1582.0  \n",
       "2                       26321.007002                            2950.0  \n",
       "3                        7258.553378                             799.0  \n",
       "4                        7258.553378                             799.0  "
      ]
     },
     "execution_count": 45,
     "metadata": {},
     "output_type": "execute_result"
    }
   ],
   "source": [
    "D1 = master_frame[(master_frame['country_code'] == 'USA') & \n",
    "             (master_frame['raised_amount_usd'] >= 5) & \n",
    "             (master_frame['raised_amount_usd'] <= 15)]\n",
    "D1_gr = D1[['raised_amount_usd','main_sector']].groupby('main_sector').agg(['sum', 'count']).rename(\n",
    "    columns={'sum':'Total_amount','count' : 'Total_count'})\n",
    "D1 = D1.merge(D1_gr, how='left', on ='main_sector')\n",
    "D1.head()\n"
   ]
  },
  {
   "cell_type": "markdown",
   "metadata": {},
   "source": [
    "**Dataframe 2(D2):**"
   ]
  },
  {
   "cell_type": "code",
   "execution_count": 46,
   "metadata": {},
   "outputs": [
    {
     "name": "stderr",
     "output_type": "stream",
     "text": [
      "/Users/manishkaushal/opt/anaconda3/lib/python3.8/site-packages/pandas/core/reshape/merge.py:618: UserWarning: merging between different levels can give an unintended result (1 levels on the left, 2 on the right)\n",
      "  warnings.warn(msg, UserWarning)\n"
     ]
    },
    {
     "data": {
      "text/html": [
       "<div>\n",
       "<style scoped>\n",
       "    .dataframe tbody tr th:only-of-type {\n",
       "        vertical-align: middle;\n",
       "    }\n",
       "\n",
       "    .dataframe tbody tr th {\n",
       "        vertical-align: top;\n",
       "    }\n",
       "\n",
       "    .dataframe thead th {\n",
       "        text-align: right;\n",
       "    }\n",
       "</style>\n",
       "<table border=\"1\" class=\"dataframe\">\n",
       "  <thead>\n",
       "    <tr style=\"text-align: right;\">\n",
       "      <th></th>\n",
       "      <th>company_permalink</th>\n",
       "      <th>raised_amount_usd</th>\n",
       "      <th>name</th>\n",
       "      <th>category_list</th>\n",
       "      <th>country_code</th>\n",
       "      <th>main_sector</th>\n",
       "      <th>(raised_amount_usd, Total_amount)</th>\n",
       "      <th>(raised_amount_usd, Total_count)</th>\n",
       "    </tr>\n",
       "  </thead>\n",
       "  <tbody>\n",
       "    <tr>\n",
       "      <th>0</th>\n",
       "      <td>/organization/365scores</td>\n",
       "      <td>5.500000</td>\n",
       "      <td>365Scores</td>\n",
       "      <td>Android</td>\n",
       "      <td>GBR</td>\n",
       "      <td>Social, Finance, Analytics, Advertising</td>\n",
       "      <td>1089.404014</td>\n",
       "      <td>133.0</td>\n",
       "    </tr>\n",
       "    <tr>\n",
       "      <th>1</th>\n",
       "      <td>/organization/7digital</td>\n",
       "      <td>8.468328</td>\n",
       "      <td>7digital</td>\n",
       "      <td>Content Creators</td>\n",
       "      <td>GBR</td>\n",
       "      <td>Entertainment</td>\n",
       "      <td>482.784687</td>\n",
       "      <td>56.0</td>\n",
       "    </tr>\n",
       "    <tr>\n",
       "      <th>2</th>\n",
       "      <td>/organization/7digital</td>\n",
       "      <td>10.000000</td>\n",
       "      <td>7digital</td>\n",
       "      <td>Content Creators</td>\n",
       "      <td>GBR</td>\n",
       "      <td>Entertainment</td>\n",
       "      <td>482.784687</td>\n",
       "      <td>56.0</td>\n",
       "    </tr>\n",
       "    <tr>\n",
       "      <th>3</th>\n",
       "      <td>/organization/90min</td>\n",
       "      <td>15.000000</td>\n",
       "      <td>90min</td>\n",
       "      <td>Media</td>\n",
       "      <td>GBR</td>\n",
       "      <td>Entertainment</td>\n",
       "      <td>482.784687</td>\n",
       "      <td>56.0</td>\n",
       "    </tr>\n",
       "    <tr>\n",
       "      <th>4</th>\n",
       "      <td>/organization/90min</td>\n",
       "      <td>5.800000</td>\n",
       "      <td>90min</td>\n",
       "      <td>Media</td>\n",
       "      <td>GBR</td>\n",
       "      <td>Entertainment</td>\n",
       "      <td>482.784687</td>\n",
       "      <td>56.0</td>\n",
       "    </tr>\n",
       "  </tbody>\n",
       "</table>\n",
       "</div>"
      ],
      "text/plain": [
       "         company_permalink  raised_amount_usd       name     category_list  \\\n",
       "0  /organization/365scores           5.500000  365Scores           Android   \n",
       "1   /organization/7digital           8.468328   7digital  Content Creators   \n",
       "2   /organization/7digital          10.000000   7digital  Content Creators   \n",
       "3      /organization/90min          15.000000      90min             Media   \n",
       "4      /organization/90min           5.800000      90min             Media   \n",
       "\n",
       "  country_code                              main_sector  \\\n",
       "0          GBR  Social, Finance, Analytics, Advertising   \n",
       "1          GBR                            Entertainment   \n",
       "2          GBR                            Entertainment   \n",
       "3          GBR                            Entertainment   \n",
       "4          GBR                            Entertainment   \n",
       "\n",
       "   (raised_amount_usd, Total_amount)  (raised_amount_usd, Total_count)  \n",
       "0                        1089.404014                             133.0  \n",
       "1                         482.784687                              56.0  \n",
       "2                         482.784687                              56.0  \n",
       "3                         482.784687                              56.0  \n",
       "4                         482.784687                              56.0  "
      ]
     },
     "execution_count": 46,
     "metadata": {},
     "output_type": "execute_result"
    }
   ],
   "source": [
    "D2 = master_frame[(master_frame['country_code'] == 'GBR') & \n",
    "             (master_frame['raised_amount_usd'] >= 5) & \n",
    "             (master_frame['raised_amount_usd'] <= 15)]\n",
    "D2_gr = D2[['raised_amount_usd','main_sector']].groupby('main_sector').agg(['sum', 'count']).rename(\n",
    "    columns={'sum':'Total_amount','count' : 'Total_count'})\n",
    "D2 = D2.merge(D2_gr, how='left', on ='main_sector')\n",
    "D2.head()"
   ]
  },
  {
   "cell_type": "markdown",
   "metadata": {},
   "source": [
    "**DataFrame 3 (D3):**"
   ]
  },
  {
   "cell_type": "code",
   "execution_count": 47,
   "metadata": {},
   "outputs": [
    {
     "name": "stderr",
     "output_type": "stream",
     "text": [
      "/Users/manishkaushal/opt/anaconda3/lib/python3.8/site-packages/pandas/core/reshape/merge.py:618: UserWarning: merging between different levels can give an unintended result (1 levels on the left, 2 on the right)\n",
      "  warnings.warn(msg, UserWarning)\n"
     ]
    },
    {
     "data": {
      "text/html": [
       "<div>\n",
       "<style scoped>\n",
       "    .dataframe tbody tr th:only-of-type {\n",
       "        vertical-align: middle;\n",
       "    }\n",
       "\n",
       "    .dataframe tbody tr th {\n",
       "        vertical-align: top;\n",
       "    }\n",
       "\n",
       "    .dataframe thead th {\n",
       "        text-align: right;\n",
       "    }\n",
       "</style>\n",
       "<table border=\"1\" class=\"dataframe\">\n",
       "  <thead>\n",
       "    <tr style=\"text-align: right;\">\n",
       "      <th></th>\n",
       "      <th>company_permalink</th>\n",
       "      <th>raised_amount_usd</th>\n",
       "      <th>name</th>\n",
       "      <th>category_list</th>\n",
       "      <th>country_code</th>\n",
       "      <th>main_sector</th>\n",
       "      <th>(raised_amount_usd, Total_amount)</th>\n",
       "      <th>(raised_amount_usd, Total_count)</th>\n",
       "    </tr>\n",
       "  </thead>\n",
       "  <tbody>\n",
       "    <tr>\n",
       "      <th>0</th>\n",
       "      <td>/organization/-fame</td>\n",
       "      <td>10.000000</td>\n",
       "      <td>#fame</td>\n",
       "      <td>Media</td>\n",
       "      <td>IND</td>\n",
       "      <td>Entertainment</td>\n",
       "      <td>280.830000</td>\n",
       "      <td>33</td>\n",
       "    </tr>\n",
       "    <tr>\n",
       "      <th>1</th>\n",
       "      <td>/organization/21diamonds-india</td>\n",
       "      <td>6.369507</td>\n",
       "      <td>21Diamonds</td>\n",
       "      <td>E-Commerce</td>\n",
       "      <td>IND</td>\n",
       "      <td>Others</td>\n",
       "      <td>1013.409507</td>\n",
       "      <td>110</td>\n",
       "    </tr>\n",
       "    <tr>\n",
       "      <th>2</th>\n",
       "      <td>/organization/a-little-world</td>\n",
       "      <td>6.410000</td>\n",
       "      <td>A LITTLE WORLD</td>\n",
       "      <td>Finance</td>\n",
       "      <td>IND</td>\n",
       "      <td>Social, Finance, Analytics, Advertising</td>\n",
       "      <td>550.549550</td>\n",
       "      <td>60</td>\n",
       "    </tr>\n",
       "    <tr>\n",
       "      <th>3</th>\n",
       "      <td>/organization/adlabs-imagica</td>\n",
       "      <td>8.180000</td>\n",
       "      <td>Adlabs Imagica</td>\n",
       "      <td>Entertainment</td>\n",
       "      <td>IND</td>\n",
       "      <td>Entertainment</td>\n",
       "      <td>280.830000</td>\n",
       "      <td>33</td>\n",
       "    </tr>\n",
       "    <tr>\n",
       "      <th>4</th>\n",
       "      <td>/organization/agile</td>\n",
       "      <td>5.740000</td>\n",
       "      <td>Agile</td>\n",
       "      <td>Finance</td>\n",
       "      <td>IND</td>\n",
       "      <td>Social, Finance, Analytics, Advertising</td>\n",
       "      <td>550.549550</td>\n",
       "      <td>60</td>\n",
       "    </tr>\n",
       "  </tbody>\n",
       "</table>\n",
       "</div>"
      ],
      "text/plain": [
       "                company_permalink  raised_amount_usd            name  \\\n",
       "0             /organization/-fame          10.000000           #fame   \n",
       "1  /organization/21diamonds-india           6.369507      21Diamonds   \n",
       "2    /organization/a-little-world           6.410000  A LITTLE WORLD   \n",
       "3    /organization/adlabs-imagica           8.180000  Adlabs Imagica   \n",
       "4             /organization/agile           5.740000           Agile   \n",
       "\n",
       "   category_list country_code                              main_sector  \\\n",
       "0          Media          IND                            Entertainment   \n",
       "1     E-Commerce          IND                                   Others   \n",
       "2        Finance          IND  Social, Finance, Analytics, Advertising   \n",
       "3  Entertainment          IND                            Entertainment   \n",
       "4        Finance          IND  Social, Finance, Analytics, Advertising   \n",
       "\n",
       "   (raised_amount_usd, Total_amount)  (raised_amount_usd, Total_count)  \n",
       "0                         280.830000                                33  \n",
       "1                        1013.409507                               110  \n",
       "2                         550.549550                                60  \n",
       "3                         280.830000                                33  \n",
       "4                         550.549550                                60  "
      ]
     },
     "execution_count": 47,
     "metadata": {},
     "output_type": "execute_result"
    }
   ],
   "source": [
    "D3 = master_frame[(master_frame['country_code'] == 'IND') & \n",
    "             (master_frame['raised_amount_usd'] >= 5) & \n",
    "             (master_frame['raised_amount_usd'] <= 15)]\n",
    "D3_gr = D3[['raised_amount_usd','main_sector']].groupby('main_sector').agg(['sum', 'count']).rename(\n",
    "    columns={'sum':'Total_amount','count' : 'Total_count'})\n",
    "D3 = D3.merge(D3_gr, how='left', on ='main_sector')\n",
    "D3.head()"
   ]
  },
  {
   "cell_type": "markdown",
   "metadata": {},
   "source": [
    "### Subtask 5.2: Sector-wise Investment Analysis\n",
    "\n",
    "For D1, D2, D3, analyse the below points :"
   ]
  },
  {
   "cell_type": "markdown",
   "metadata": {},
   "source": [
    "**1.Total number of investments (count):**"
   ]
  },
  {
   "cell_type": "code",
   "execution_count": 48,
   "metadata": {},
   "outputs": [
    {
     "name": "stdout",
     "output_type": "stream",
     "text": [
      "12064\n",
      "621\n",
      "328\n"
     ]
    }
   ],
   "source": [
    "\n",
    "print(D1.raised_amount_usd.count())\n",
    "print(D2.raised_amount_usd.count())\n",
    "print(D3.raised_amount_usd.count())"
   ]
  },
  {
   "cell_type": "markdown",
   "metadata": {},
   "source": [
    "**2.Total amount of investment (USD):**"
   ]
  },
  {
   "cell_type": "code",
   "execution_count": 49,
   "metadata": {},
   "outputs": [
    {
     "name": "stdout",
     "output_type": "stream",
     "text": [
      "107766.58\n",
      "5379.08\n",
      "2949.54\n"
     ]
    }
   ],
   "source": [
    "\n",
    "print(round(D1.raised_amount_usd.sum(), 2))\n",
    "print(round(D2.raised_amount_usd.sum(), 2))\n",
    "print(round(D3.raised_amount_usd.sum(), 2))"
   ]
  },
  {
   "cell_type": "markdown",
   "metadata": {},
   "source": [
    "**3.Top sector, second-top, third-top for D1 (based on count of investments) Number of investments in the top, second-top, third-top sector in D1**\n"
   ]
  },
  {
   "cell_type": "code",
   "execution_count": 50,
   "metadata": {
    "scrolled": true
   },
   "outputs": [
    {
     "data": {
      "text/html": [
       "<div>\n",
       "<style scoped>\n",
       "    .dataframe tbody tr th:only-of-type {\n",
       "        vertical-align: middle;\n",
       "    }\n",
       "\n",
       "    .dataframe tbody tr th {\n",
       "        vertical-align: top;\n",
       "    }\n",
       "\n",
       "    .dataframe thead tr th {\n",
       "        text-align: left;\n",
       "    }\n",
       "\n",
       "    .dataframe thead tr:last-of-type th {\n",
       "        text-align: right;\n",
       "    }\n",
       "</style>\n",
       "<table border=\"1\" class=\"dataframe\">\n",
       "  <thead>\n",
       "    <tr>\n",
       "      <th></th>\n",
       "      <th colspan=\"2\" halign=\"left\">raised_amount_usd</th>\n",
       "    </tr>\n",
       "    <tr>\n",
       "      <th></th>\n",
       "      <th>Total_amount</th>\n",
       "      <th>Total_count</th>\n",
       "    </tr>\n",
       "    <tr>\n",
       "      <th>main_sector</th>\n",
       "      <th></th>\n",
       "      <th></th>\n",
       "    </tr>\n",
       "  </thead>\n",
       "  <tbody>\n",
       "    <tr>\n",
       "      <th>Automotive &amp; Sports</th>\n",
       "      <td>1454.104361</td>\n",
       "      <td>167</td>\n",
       "    </tr>\n",
       "    <tr>\n",
       "      <th>Cleantech / Semiconductors</th>\n",
       "      <td>21206.628192</td>\n",
       "      <td>2300</td>\n",
       "    </tr>\n",
       "    <tr>\n",
       "      <th>Entertainment</th>\n",
       "      <td>5099.197982</td>\n",
       "      <td>591</td>\n",
       "    </tr>\n",
       "    <tr>\n",
       "      <th>Health</th>\n",
       "      <td>8211.859357</td>\n",
       "      <td>909</td>\n",
       "    </tr>\n",
       "    <tr>\n",
       "      <th>Manufacturing</th>\n",
       "      <td>7258.553378</td>\n",
       "      <td>799</td>\n",
       "    </tr>\n",
       "    <tr>\n",
       "      <th>News, Search and Messaging</th>\n",
       "      <td>13959.567428</td>\n",
       "      <td>1582</td>\n",
       "    </tr>\n",
       "    <tr>\n",
       "      <th>Others</th>\n",
       "      <td>26321.007002</td>\n",
       "      <td>2950</td>\n",
       "    </tr>\n",
       "    <tr>\n",
       "      <th>Social, Finance, Analytics, Advertising</th>\n",
       "      <td>23807.376964</td>\n",
       "      <td>2714</td>\n",
       "    </tr>\n",
       "  </tbody>\n",
       "</table>\n",
       "</div>"
      ],
      "text/plain": [
       "                                        raised_amount_usd            \n",
       "                                             Total_amount Total_count\n",
       "main_sector                                                          \n",
       "Automotive & Sports                           1454.104361         167\n",
       "Cleantech / Semiconductors                   21206.628192        2300\n",
       "Entertainment                                 5099.197982         591\n",
       "Health                                        8211.859357         909\n",
       "Manufacturing                                 7258.553378         799\n",
       "News, Search and Messaging                   13959.567428        1582\n",
       "Others                                       26321.007002        2950\n",
       "Social, Finance, Analytics, Advertising      23807.376964        2714"
      ]
     },
     "execution_count": 50,
     "metadata": {},
     "output_type": "execute_result"
    }
   ],
   "source": [
    "\n",
    "D1_gr"
   ]
  },
  {
   "cell_type": "markdown",
   "metadata": {},
   "source": [
    "**4.Top sector, second-top, third-top for D2 (based on count of investments):**\n"
   ]
  },
  {
   "cell_type": "code",
   "execution_count": 51,
   "metadata": {},
   "outputs": [
    {
     "data": {
      "text/html": [
       "<div>\n",
       "<style scoped>\n",
       "    .dataframe tbody tr th:only-of-type {\n",
       "        vertical-align: middle;\n",
       "    }\n",
       "\n",
       "    .dataframe tbody tr th {\n",
       "        vertical-align: top;\n",
       "    }\n",
       "\n",
       "    .dataframe thead tr th {\n",
       "        text-align: left;\n",
       "    }\n",
       "\n",
       "    .dataframe thead tr:last-of-type th {\n",
       "        text-align: right;\n",
       "    }\n",
       "</style>\n",
       "<table border=\"1\" class=\"dataframe\">\n",
       "  <thead>\n",
       "    <tr>\n",
       "      <th></th>\n",
       "      <th colspan=\"2\" halign=\"left\">raised_amount_usd</th>\n",
       "    </tr>\n",
       "    <tr>\n",
       "      <th></th>\n",
       "      <th>Total_amount</th>\n",
       "      <th>Total_count</th>\n",
       "    </tr>\n",
       "    <tr>\n",
       "      <th>main_sector</th>\n",
       "      <th></th>\n",
       "      <th></th>\n",
       "    </tr>\n",
       "  </thead>\n",
       "  <tbody>\n",
       "    <tr>\n",
       "      <th>Automotive &amp; Sports</th>\n",
       "      <td>167.051565</td>\n",
       "      <td>16</td>\n",
       "    </tr>\n",
       "    <tr>\n",
       "      <th>Cleantech / Semiconductors</th>\n",
       "      <td>1150.139665</td>\n",
       "      <td>128</td>\n",
       "    </tr>\n",
       "    <tr>\n",
       "      <th>Entertainment</th>\n",
       "      <td>482.784687</td>\n",
       "      <td>56</td>\n",
       "    </tr>\n",
       "    <tr>\n",
       "      <th>Health</th>\n",
       "      <td>214.537510</td>\n",
       "      <td>24</td>\n",
       "    </tr>\n",
       "    <tr>\n",
       "      <th>Manufacturing</th>\n",
       "      <td>361.940335</td>\n",
       "      <td>42</td>\n",
       "    </tr>\n",
       "    <tr>\n",
       "      <th>News, Search and Messaging</th>\n",
       "      <td>615.746235</td>\n",
       "      <td>73</td>\n",
       "    </tr>\n",
       "    <tr>\n",
       "      <th>Others</th>\n",
       "      <td>1283.624289</td>\n",
       "      <td>147</td>\n",
       "    </tr>\n",
       "    <tr>\n",
       "      <th>Social, Finance, Analytics, Advertising</th>\n",
       "      <td>1089.404014</td>\n",
       "      <td>133</td>\n",
       "    </tr>\n",
       "  </tbody>\n",
       "</table>\n",
       "</div>"
      ],
      "text/plain": [
       "                                        raised_amount_usd            \n",
       "                                             Total_amount Total_count\n",
       "main_sector                                                          \n",
       "Automotive & Sports                            167.051565          16\n",
       "Cleantech / Semiconductors                    1150.139665         128\n",
       "Entertainment                                  482.784687          56\n",
       "Health                                         214.537510          24\n",
       "Manufacturing                                  361.940335          42\n",
       "News, Search and Messaging                     615.746235          73\n",
       "Others                                        1283.624289         147\n",
       "Social, Finance, Analytics, Advertising       1089.404014         133"
      ]
     },
     "execution_count": 51,
     "metadata": {},
     "output_type": "execute_result"
    }
   ],
   "source": [
    "D2_gr"
   ]
  },
  {
   "cell_type": "markdown",
   "metadata": {},
   "source": [
    "**5.Top sector, second-top, third-top for D2 (based on count of investments)**"
   ]
  },
  {
   "cell_type": "code",
   "execution_count": 52,
   "metadata": {},
   "outputs": [
    {
     "data": {
      "text/html": [
       "<div>\n",
       "<style scoped>\n",
       "    .dataframe tbody tr th:only-of-type {\n",
       "        vertical-align: middle;\n",
       "    }\n",
       "\n",
       "    .dataframe tbody tr th {\n",
       "        vertical-align: top;\n",
       "    }\n",
       "\n",
       "    .dataframe thead tr th {\n",
       "        text-align: left;\n",
       "    }\n",
       "\n",
       "    .dataframe thead tr:last-of-type th {\n",
       "        text-align: right;\n",
       "    }\n",
       "</style>\n",
       "<table border=\"1\" class=\"dataframe\">\n",
       "  <thead>\n",
       "    <tr>\n",
       "      <th></th>\n",
       "      <th colspan=\"2\" halign=\"left\">raised_amount_usd</th>\n",
       "    </tr>\n",
       "    <tr>\n",
       "      <th></th>\n",
       "      <th>Total_amount</th>\n",
       "      <th>Total_count</th>\n",
       "    </tr>\n",
       "    <tr>\n",
       "      <th>main_sector</th>\n",
       "      <th></th>\n",
       "      <th></th>\n",
       "    </tr>\n",
       "  </thead>\n",
       "  <tbody>\n",
       "    <tr>\n",
       "      <th>Automotive &amp; Sports</th>\n",
       "      <td>136.900000</td>\n",
       "      <td>13</td>\n",
       "    </tr>\n",
       "    <tr>\n",
       "      <th>Cleantech / Semiconductors</th>\n",
       "      <td>165.380000</td>\n",
       "      <td>20</td>\n",
       "    </tr>\n",
       "    <tr>\n",
       "      <th>Entertainment</th>\n",
       "      <td>280.830000</td>\n",
       "      <td>33</td>\n",
       "    </tr>\n",
       "    <tr>\n",
       "      <th>Health</th>\n",
       "      <td>167.740000</td>\n",
       "      <td>19</td>\n",
       "    </tr>\n",
       "    <tr>\n",
       "      <th>Manufacturing</th>\n",
       "      <td>200.900000</td>\n",
       "      <td>21</td>\n",
       "    </tr>\n",
       "    <tr>\n",
       "      <th>News, Search and Messaging</th>\n",
       "      <td>433.834545</td>\n",
       "      <td>52</td>\n",
       "    </tr>\n",
       "    <tr>\n",
       "      <th>Others</th>\n",
       "      <td>1013.409507</td>\n",
       "      <td>110</td>\n",
       "    </tr>\n",
       "    <tr>\n",
       "      <th>Social, Finance, Analytics, Advertising</th>\n",
       "      <td>550.549550</td>\n",
       "      <td>60</td>\n",
       "    </tr>\n",
       "  </tbody>\n",
       "</table>\n",
       "</div>"
      ],
      "text/plain": [
       "                                        raised_amount_usd            \n",
       "                                             Total_amount Total_count\n",
       "main_sector                                                          \n",
       "Automotive & Sports                            136.900000          13\n",
       "Cleantech / Semiconductors                     165.380000          20\n",
       "Entertainment                                  280.830000          33\n",
       "Health                                         167.740000          19\n",
       "Manufacturing                                  200.900000          21\n",
       "News, Search and Messaging                     433.834545          52\n",
       "Others                                        1013.409507         110\n",
       "Social, Finance, Analytics, Advertising        550.549550          60"
      ]
     },
     "execution_count": 52,
     "metadata": {},
     "output_type": "execute_result"
    }
   ],
   "source": [
    "D3_gr"
   ]
  },
  {
   "cell_type": "markdown",
   "metadata": {},
   "source": [
    "**9.For the top sector (USA) , which company received the highest investment?**"
   ]
  },
  {
   "cell_type": "code",
   "execution_count": 53,
   "metadata": {},
   "outputs": [
    {
     "name": "stdout",
     "output_type": "stream",
     "text": [
      "                           raised_amount_usd\n",
      "company_permalink                           \n",
      "/organization/virtustream               64.3\n"
     ]
    }
   ],
   "source": [
    "#which company received the highest investment for country 1(USA)\n",
    "company = D1[D1['main_sector']=='Others']\n",
    "company = company.pivot_table(values = 'raised_amount_usd', index = 'company_permalink', aggfunc = 'sum')\n",
    "company = company.sort_values(by = 'raised_amount_usd', ascending = False).head()\n",
    "print(company.head(1))\n",
    "\n"
   ]
  },
  {
   "cell_type": "code",
   "execution_count": 54,
   "metadata": {},
   "outputs": [
    {
     "name": "stdout",
     "output_type": "stream",
     "text": [
      "                              raised_amount_usd\n",
      "company_permalink                              \n",
      "/organization/electric-cloud               37.0\n"
     ]
    }
   ],
   "source": [
    "#which company received the highest investment for country 2(GBR)\n",
    "company = D2[D2['main_sector']=='Others']\n",
    "company = company.pivot_table(values = 'raised_amount_usd', index = 'company_permalink', aggfunc = 'sum')\n",
    "company = company.sort_values(by = 'raised_amount_usd', ascending = False).head()\n",
    "print(company.head(1))"
   ]
  },
  {
   "cell_type": "code",
   "execution_count": 55,
   "metadata": {},
   "outputs": [
    {
     "name": "stdout",
     "output_type": "stream",
     "text": [
      "                            raised_amount_usd\n",
      "company_permalink                            \n",
      "/organization/firstcry-com               39.0\n"
     ]
    }
   ],
   "source": [
    "#which company received the highest investment for  the  country 3 (IND)\n",
    "company = D3[D3['main_sector']=='Others']\n",
    "company = company.pivot_table(values = 'raised_amount_usd', index = 'company_permalink', aggfunc = 'sum')\n",
    "company = company.sort_values(by = 'raised_amount_usd', ascending = False).head()\n",
    "print(company.head(1))"
   ]
  },
  {
   "cell_type": "markdown",
   "metadata": {},
   "source": [
    "**10.For the second top sector, which company received the highest investment?**"
   ]
  },
  {
   "cell_type": "code",
   "execution_count": 56,
   "metadata": {},
   "outputs": [
    {
     "name": "stdout",
     "output_type": "stream",
     "text": [
      "                           raised_amount_usd\n",
      "company_permalink                           \n",
      "/organization/shotspotter          67.933006\n"
     ]
    }
   ],
   "source": [
    "#which company received the second highest investment for the country 1(USA)\n",
    "company = D1[D1['main_sector']=='Social, Finance, Analytics, Advertising']\n",
    "company = company.pivot_table(values = 'raised_amount_usd', index = 'company_permalink', aggfunc = 'sum')\n",
    "company = company.sort_values(by = 'raised_amount_usd', ascending = False).head()\n",
    "print(company.head(1))"
   ]
  },
  {
   "cell_type": "code",
   "execution_count": 57,
   "metadata": {},
   "outputs": [
    {
     "name": "stdout",
     "output_type": "stream",
     "text": [
      "                                     raised_amount_usd\n",
      "company_permalink                                     \n",
      "/organization/celltick-technologies               37.5\n"
     ]
    }
   ],
   "source": [
    "##which company received the second highest investment for the country 2(GBR)\n",
    "company = D2[D2['main_sector']== 'Social, Finance, Analytics, Advertising']\n",
    "company = company.pivot_table(values = 'raised_amount_usd', index = 'company_permalink', aggfunc = 'sum')\n",
    "company = company.sort_values(by = 'raised_amount_usd', ascending = False).head()\n",
    "print(company.head(1))"
   ]
  },
  {
   "cell_type": "code",
   "execution_count": 58,
   "metadata": {},
   "outputs": [
    {
     "name": "stdout",
     "output_type": "stream",
     "text": [
      "                               raised_amount_usd\n",
      "company_permalink                               \n",
      "/organization/manthan-systems               50.7\n"
     ]
    }
   ],
   "source": [
    "##which company received the second highest investment for the country 3 (IND)\n",
    "company = D3[D3['main_sector']== 'Social, Finance, Analytics, Advertising']\n",
    "company = company.pivot_table(values = 'raised_amount_usd', index = 'company_permalink', aggfunc = 'sum')\n",
    "company = company.sort_values(by = 'raised_amount_usd', ascending = False).head()\n",
    "print(company.head(1))"
   ]
  },
  {
   "cell_type": "markdown",
   "metadata": {},
   "source": [
    "## Checkpoint 6: Plots\n",
    "As a final step, you have to present your findings to the CEO of Spark Funds. Specifically, she wants to see the following plots:\n",
    "1.\tA plot showing the fraction of total investments (globally) in angel, venture, seed, and private equity, and the average amount of investment in each funding type. This chart should make it clear that a certain funding type (FT) is best suited for Spark Funds.\n",
    "2.\tA plot showing the top 9 countries against the total amount of investments of funding type FT. This should make the top 3 countries (Country 1, Country 2, and Country 3) very clear.\n",
    "3.\tA plot showing the number of investments in the top 3 sectors of the top 3 countries on one chart (for the chosen investment type FT). "
   ]
  },
  {
   "cell_type": "markdown",
   "metadata": {},
   "source": [
    "**1.A plot showing the fraction of total investments (globally) in angel, venture, seed, and private equity, and the average amount of investment in each funding type. This chart should make it clear that a certain funding type (FT) is best suited for Spark Funds.**"
   ]
  },
  {
   "cell_type": "code",
   "execution_count": 59,
   "metadata": {},
   "outputs": [
    {
     "data": {
      "image/png": "[encoded data removed]",
      "text/plain": [
       "<Figure size 1440x360 with 1 Axes>"
      ]
     },
     "metadata": {
      "needs_background": "light"
     },
     "output_type": "display_data"
    }
   ],
   "source": [
    "\n",
    "# bar plot with default statistic=mean\n",
    "plt.figure(figsize=(20,5))\n",
    "g=sns.barplot(x='funding_round_type', y='raised_amount_usd', data=master_frame2)\n",
    "\n",
    "g.set(xlabel='Funding Type', ylabel='Raised Amount   ( 1 Unit = 10M USD)')\n",
    "g.set_title('Funding Type Analysis',fontsize =18)\n",
    "\n",
    "plt.axhline(5000000, color='green')\n",
    "plt.axhline(15000000, color='red')\n",
    "\n",
    "\n",
    "plt.show()"
   ]
  },
  {
   "cell_type": "markdown",
   "metadata": {},
   "source": [
    "**2.A plot showing the top 9 countries against the total amount of investments of funding type FT. This should make the top 3 countries (Country 1, Country 2, and Country 3) very clear.**"
   ]
  },
  {
   "cell_type": "code",
   "execution_count": 60,
   "metadata": {},
   "outputs": [
    {
     "data": {
      "text/plain": [
       "(47809, 6)"
      ]
     },
     "execution_count": 60,
     "metadata": {},
     "output_type": "execute_result"
    }
   ],
   "source": [
    "venture_df = master_frame2[master_frame2[\"funding_round_type\"]==\"venture\"]\n",
    "venture_df.shape"
   ]
  },
  {
   "cell_type": "code",
   "execution_count": 61,
   "metadata": {},
   "outputs": [
    {
     "data": {
      "text/plain": [
       "country_code\n",
       "USA    4.200680e+11\n",
       "CHN    3.933892e+10\n",
       "GBR    2.007281e+10\n",
       "IND    1.426151e+10\n",
       "CAN    9.482218e+09\n",
       "FRA    7.226851e+09\n",
       "ISR    6.854350e+09\n",
       "DEU    6.306922e+09\n",
       "JPN    3.167647e+09\n",
       "Name: raised_amount_usd, dtype: float64"
      ]
     },
     "execution_count": 61,
     "metadata": {},
     "output_type": "execute_result"
    }
   ],
   "source": [
    "\n",
    "venture_by_country = venture_df.groupby('country_code')\n",
    "venture_by_country['raised_amount_usd'].sum().sort_values(ascending=False).head(9)"
   ]
  },
  {
   "cell_type": "code",
   "execution_count": 63,
   "metadata": {},
   "outputs": [],
   "source": [
    "#Filtering the data with these top 9 countries only.\n",
    "top9 = venture_df[venture_df['country_code'].isin([\"USA\",\"CHN\",\"GBR\",\"IND\",\"CAN\",\"FRA\",\"ISR\",\"DEU\",\"JPN\"])]\n",
    "top9=top9[~top9.category_list.isnull()]\n"
   ]
  },
  {
   "cell_type": "code",
   "execution_count": 64,
   "metadata": {},
   "outputs": [],
   "source": [
    "\n",
    "top9['primary_sector'] =top9['category_list'].astype(str).apply(lambda x: x.split('|')[0])"
   ]
  },
  {
   "cell_type": "code",
   "execution_count": 65,
   "metadata": {},
   "outputs": [
    {
     "data": {
      "image/png": "[encoded data removed]",
      "text/plain": [
       "<Figure size 720x360 with 1 Axes>"
      ]
     },
     "metadata": {
      "needs_background": "light"
     },
     "output_type": "display_data"
    }
   ],
   "source": [
    "\n",
    "# bar plot with default statistic=mean\n",
    "plt.figure(figsize=(10,5))\n",
    "c=sns.barplot(x='country_code', y='raised_amount_usd', data=top9, estimator=np.sum,color=(0.2, 0.4, 0.7, 0.6))\n",
    "#c.set_ylim(0, 100000000000)\n",
    "c.set_yscale('log')\n",
    "c.set(xlabel='Funding Type', ylabel='Raised Amount')\n",
    "c.set_title('Country Analysis',fontsize =18)\n",
    "plt.show()"
   ]
  },
  {
   "cell_type": "markdown",
   "metadata": {},
   "source": [
    "\n",
    "A plot showing the number of investments in the top 3 sectors of the top 3 countries on one chart (for the chosen investment type i.e venture).For this plot creating a master dataframe with all the data for the top 3 sectors of the top 3 countries.\n",
    "\n"
   ]
  },
  {
   "cell_type": "markdown",
   "metadata": {},
   "source": [
    "**3.\tA plot showing the number of investments in the top 3 sectors of the top 3 countries on one chart (for the chosen investment type FT).** "
   ]
  },
  {
   "cell_type": "code",
   "execution_count": 66,
   "metadata": {},
   "outputs": [
    {
     "data": {
      "text/plain": [
       "(7964, 8)"
      ]
     },
     "execution_count": 66,
     "metadata": {},
     "output_type": "execute_result"
    }
   ],
   "source": [
    "master_D=D1[D1['main_sector'].isin(['Others','Social, Finance, Analytics, Advertising','Cleantech / Semiconductors'])]\n",
    "master_D.shape"
   ]
  },
  {
   "cell_type": "code",
   "execution_count": 67,
   "metadata": {},
   "outputs": [],
   "source": [
    "master_D=master_D.append(D2[D2['main_sector'].isin(['Others','Social, Finance, Analytics, Advertising','Cleantech / Semiconductors'])], ignore_index=True)"
   ]
  },
  {
   "cell_type": "code",
   "execution_count": 68,
   "metadata": {},
   "outputs": [
    {
     "data": {
      "text/plain": [
       "(8372, 8)"
      ]
     },
     "execution_count": 68,
     "metadata": {},
     "output_type": "execute_result"
    }
   ],
   "source": [
    "\n",
    "master_D.shape"
   ]
  },
  {
   "cell_type": "code",
   "execution_count": 69,
   "metadata": {},
   "outputs": [
    {
     "data": {
      "text/plain": [
       "(8594, 8)"
      ]
     },
     "execution_count": 69,
     "metadata": {},
     "output_type": "execute_result"
    }
   ],
   "source": [
    "master_D=master_D.append(D3[D3['main_sector'].isin(['Others','Social, Finance, Analytics, Advertising','News, Search and Messaging'])], ignore_index=True)\n",
    "master_D.shape"
   ]
  },
  {
   "cell_type": "code",
   "execution_count": 70,
   "metadata": {},
   "outputs": [
    {
     "data": {
      "image/png": "[encoded data removed]",
      "text/plain": [
       "<Figure size 960x640 with 1 Axes>"
      ]
     },
     "metadata": {},
     "output_type": "display_data"
    }
   ],
   "source": [
    "\n",
    "#Using the master_D dataframe to plot the sector wise investment count of the top 3 sectors of the top3 countries.\n",
    "\n",
    "# set figure size for larger figure\n",
    "plt.figure(num=None, figsize=(12, 8), dpi=80, facecolor='w', edgecolor='k')\n",
    "\n",
    "# specify hue=\"categorical_variable\"\n",
    "s=sns.barplot(x='country_code', y='raised_amount_usd', hue=\"main_sector\", data=master_D,estimator=lambda x: len(x))\n",
    "s.set(xlabel='Country', ylabel='Number of Investments')\n",
    "s.set_title('Investments in top3 sectors of top 3 countries',fontsize =18)\n",
    "plt.show()"
   ]
  },
  {
   "cell_type": "markdown",
   "metadata": {},
   "source": [
    "## Conclusion :\n",
    "#### Based on the data analysis performed, SparksFunds should invest in -\n",
    "\n",
    "- Funding type - Venture.\n",
    "- Countries - USA, Britain and India, respectively.\n",
    "- Top two sectors to invest in are - Others and Social, Finance, Analytics, Advertising"
   ]
  },
  {
   "cell_type": "code",
   "execution_count": null,
   "metadata": {},
   "outputs": [],
   "source": []
  }
 ],
 "metadata": {
  "kernelspec": {
   "display_name": "Python 3",
   "language": "python",
   "name": "python3"
  },
  "language_info": {
   "codemirror_mode": {
    "name": "ipython",
    "version": 3
   },
   "file_extension": ".py",
   "mimetype": "text/x-python",
   "name": "python",
   "nbconvert_exporter": "python",
   "pygments_lexer": "ipython3",
   "version": "3.8.3"
  }
 },
 "nbformat": 4,
 "nbformat_minor": 4
}
